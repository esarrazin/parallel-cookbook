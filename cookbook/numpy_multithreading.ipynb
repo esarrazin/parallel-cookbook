{
 "cells": [
  {
   "cell_type": "markdown",
   "id": "aeedbde1-ebed-4f6b-b192-a471a1f21012",
   "metadata": {},
   "source": [
    "# Numpy"
   ]
  },
  {
   "cell_type": "markdown",
   "id": "f7b8a07e-1c46-4b96-ab84-f23160ee45dd",
   "metadata": {},
   "source": [
    "The list of NumPy functions that call BLAS and LAPACK APIs that may offer automatic parallelism via threads is as follows:\n",
    "Matrix and vector products\n",
    "\n",
    "    numpy.dot()\n",
    "    numpy.linalg.multi_dot(()\n",
    "    numpy.vdot()\n",
    "    numpy.inner()\n",
    "    numpy.outer()\n",
    "    numpy.matmul()\n",
    "    numpy.tensordot()\n",
    "    numpy.einsum(()\n",
    "    numpy.einsum_path()\n",
    "    numpy.linalg.matrix_power()\n",
    "    numpy.kron()\n",
    "\n",
    "Decompositions\n",
    "\n",
    "    numpy.linalg.cholesky()\n",
    "    numpy.linalg.qr()\n",
    "    numpy.linalg.svd()\n",
    "\n",
    "Matrix eigenvalues\n",
    "\n",
    "    numpy.linalg.eig()\n",
    "    numpy.linalg.eigh()\n",
    "    numpy.linalg.eigvals()\n",
    "    numpy.linalg.eigvalsh()\n",
    "\n",
    "Norms and other numbers\n",
    "\n",
    "    numpy.linalg.norm()\n",
    "    numpy.linalg.cond()\n",
    "    numpy.linalg.det()\n",
    "    numpy.linalg.matrix_rank()\n",
    "    numpy.linalg.slogdet()\n",
    "    numpy.trace()\n",
    "\n",
    "Solving equations and inverting matrices\n",
    "\n",
    "    numpy.linalg.solve()\n",
    "    numpy.linalg.tensorsolve()\n",
    "    numpy.linalg.lstsq()\n",
    "    numpy.linalg.inv()\n",
    "    numpy.linalg.pinv()\n",
    "    numpy.linalg.tensorinv()\n"
   ]
  },
  {
   "cell_type": "code",
   "execution_count": 70,
   "id": "e71d4f39-7cae-46b9-a535-09d6a119f181",
   "metadata": {},
   "outputs": [],
   "source": [
    "import os\n",
    "import numpy as np"
   ]
  },
  {
   "cell_type": "markdown",
   "id": "9f4703fc-78c1-4260-ba16-6cfd3e51c6e9",
   "metadata": {},
   "source": [
    "## Numpy config"
   ]
  },
  {
   "cell_type": "markdown",
   "id": "a7b06bf2-297e-4295-81d6-5ca061e67a97",
   "metadata": {},
   "source": [
    "Show libraries and system information on which NumPy was built and is being used"
   ]
  },
  {
   "cell_type": "code",
   "execution_count": 71,
   "id": "7317f6a3-6692-4eac-b231-9343585e9d71",
   "metadata": {},
   "outputs": [
    {
     "name": "stdout",
     "output_type": "stream",
     "text": [
      "Build Dependencies:\n",
      "  blas:\n",
      "    detection method: pkgconfig\n",
      "    found: true\n",
      "    include directory: /usr/local/include\n",
      "    lib directory: /usr/local/lib\n",
      "    name: openblas64\n",
      "    openblas configuration: USE_64BITINT=1 DYNAMIC_ARCH=1 DYNAMIC_OLDER= NO_CBLAS=\n",
      "      NO_LAPACK= NO_LAPACKE= NO_AFFINITY=1 USE_OPENMP= HASWELL MAX_THREADS=2\n",
      "    pc file directory: /usr/local/lib/pkgconfig\n",
      "    version: 0.3.23.dev\n",
      "  lapack:\n",
      "    detection method: internal\n",
      "    found: true\n",
      "    include directory: unknown\n",
      "    lib directory: unknown\n",
      "    name: dep139863411681952\n",
      "    openblas configuration: unknown\n",
      "    pc file directory: unknown\n",
      "    version: 1.26.4\n",
      "Compilers:\n",
      "  c:\n",
      "    args: -fno-strict-aliasing\n",
      "    commands: cc\n",
      "    linker: ld.bfd\n",
      "    linker args: -Wl,--strip-debug, -fno-strict-aliasing\n",
      "    name: gcc\n",
      "    version: 10.2.1\n",
      "  c++:\n",
      "    commands: c++\n",
      "    linker: ld.bfd\n",
      "    linker args: -Wl,--strip-debug\n",
      "    name: gcc\n",
      "    version: 10.2.1\n",
      "  cython:\n",
      "    commands: cython\n",
      "    linker: cython\n",
      "    name: cython\n",
      "    version: 3.0.8\n",
      "Machine Information:\n",
      "  build:\n",
      "    cpu: x86_64\n",
      "    endian: little\n",
      "    family: x86_64\n",
      "    system: linux\n",
      "  host:\n",
      "    cpu: x86_64\n",
      "    endian: little\n",
      "    family: x86_64\n",
      "    system: linux\n",
      "Python Information:\n",
      "  path: /opt/python/cp310-cp310/bin/python\n",
      "  version: '3.10'\n",
      "SIMD Extensions:\n",
      "  baseline:\n",
      "  - SSE\n",
      "  - SSE2\n",
      "  - SSE3\n",
      "  found:\n",
      "  - SSSE3\n",
      "  - SSE41\n",
      "  - POPCNT\n",
      "  - SSE42\n",
      "  - AVX\n",
      "  - F16C\n",
      "  - FMA3\n",
      "  - AVX2\n",
      "  not found:\n",
      "  - AVX512F\n",
      "  - AVX512CD\n",
      "  - AVX512_KNL\n",
      "  - AVX512_KNM\n",
      "  - AVX512_SKX\n",
      "  - AVX512_CLX\n",
      "  - AVX512_CNL\n",
      "  - AVX512_ICL\n",
      "\n"
     ]
    }
   ],
   "source": [
    "np.show_config()"
   ]
  },
  {
   "cell_type": "markdown",
   "id": "39a02c72-431b-4bb6-a8cb-6c360f86ac2d",
   "metadata": {},
   "source": [
    "Depending of BLAS Library NumPy is using, you have to select the environment variable:\n",
    " * OMP_NUM_THREADS: openmp,\n",
    " * OPENBLAS_NUM_THREADS: openblas,\n",
    " * MKL_NUM_THREADS: mkl,\n",
    " * VECLIB_MAXIMUM_THREADS: accelerate,\n",
    " * NUMEXPR_NUM_THREADS: numexpr"
   ]
  },
  {
   "cell_type": "markdown",
   "id": "68176fce-e45c-4ca1-9d64-3e00ef678f62",
   "metadata": {},
   "source": [
    "## Examples of Multithreaded NumPy Functions"
   ]
  },
  {
   "cell_type": "markdown",
   "id": "fe1f902e-ae94-42d3-934e-241fb9a6e1d1",
   "metadata": {},
   "source": [
    "If Numpy uses openblas, you have to use the environment variable 'OPENBLAS_NUM_THREADS' to control the number of cpus used."
   ]
  },
  {
   "cell_type": "markdown",
   "id": "a821b3d8-eaec-4c73-b82b-ab3348092e8d",
   "metadata": {},
   "source": [
    "The number of threads can only be changed before importing numpy"
   ]
  },
  {
   "cell_type": "markdown",
   "id": "58587255-b00d-4a43-b222-b523f0f2affa",
   "metadata": {},
   "source": [
    "### matrix-matrix multiplication"
   ]
  },
  {
   "cell_type": "markdown",
   "id": "15b7377a-97f8-4d43-b4ab-459aac5c113f",
   "metadata": {},
   "source": [
    "**Sequential execution**"
   ]
  },
  {
   "cell_type": "code",
   "execution_count": 1,
   "id": "98e39d30-5960-4345-ad35-5df058edc979",
   "metadata": {},
   "outputs": [
    {
     "name": "stdout",
     "output_type": "stream",
     "text": [
      "CPU times: user 12.9 s, sys: 20.8 ms, total: 12.9 s\n",
      "Wall time: 12.9 s\n"
     ]
    }
   ],
   "source": [
    "import os\n",
    "os.environ['OPENBLAS_NUM_THREADS'] = '1'\n",
    "import numpy as np\n",
    "n = 4000\n",
    "# create an array of random values\n",
    "data1 = np.random.rand(n, n)\n",
    "data2 = np.random.rand(n, n)\n",
    "%time result = data1.dot(data2)"
   ]
  },
  {
   "cell_type": "markdown",
   "id": "d22e2bd3-1bd9-45b6-b90e-2c6e5c536d55",
   "metadata": {},
   "source": [
    "**Parallel execution**"
   ]
  },
  {
   "cell_type": "markdown",
   "id": "17a74d79-9c1d-4045-91e7-b01cffcb6d7a",
   "metadata": {},
   "source": [
    "Restart your kernel"
   ]
  },
  {
   "cell_type": "code",
   "execution_count": 1,
   "id": "ebec7a51-e7e5-461f-8b23-13d0d32b590b",
   "metadata": {},
   "outputs": [
    {
     "name": "stdout",
     "output_type": "stream",
     "text": [
      "CPU times: user 29 s, sys: 3.37 s, total: 32.4 s\n",
      "Wall time: 4.1 s\n"
     ]
    }
   ],
   "source": [
    "import os\n",
    "os.environ['OPENBLAS_NUM_THREADS'] = '8'\n",
    "import numpy as np\n",
    "n = 4000\n",
    "# create an array of random values\n",
    "data1 = np.random.rand(n, n)\n",
    "data2 = np.random.rand(n, n)\n",
    "%time result = data1.dot(data2)"
   ]
  },
  {
   "cell_type": "code",
   "execution_count": null,
   "id": "562dc78d-14e0-4480-ae37-72477b65defd",
   "metadata": {},
   "outputs": [],
   "source": []
  }
 ],
 "metadata": {
  "kernelspec": {
   "display_name": "Python 3 (ipykernel)",
   "language": "python",
   "name": "python3"
  },
  "language_info": {
   "codemirror_mode": {
    "name": "ipython",
    "version": 3
   },
   "file_extension": ".py",
   "mimetype": "text/x-python",
   "name": "python",
   "nbconvert_exporter": "python",
   "pygments_lexer": "ipython3",
   "version": "3.10.12"
  }
 },
 "nbformat": 4,
 "nbformat_minor": 5
}
