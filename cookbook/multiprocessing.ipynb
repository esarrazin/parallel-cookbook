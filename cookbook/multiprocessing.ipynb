{
 "cells": [
  {
   "cell_type": "markdown",
   "id": "ec31bb16-6a68-48f7-a027-a0cc449539ed",
   "metadata": {},
   "source": [
    "# Multiprocessing"
   ]
  },
  {
   "cell_type": "markdown",
   "id": "c0f0966d-cdee-4c87-a3ce-59029ad32e45",
   "metadata": {},
   "source": [
    "## How to get the number of CPUs in Python?"
   ]
  },
  {
   "cell_type": "markdown",
   "id": "55f3b055-d7c2-4347-89f8-08f8459f1a70",
   "metadata": {},
   "source": [
    "The Python standard library provides two ways:\n",
    "\n",
    " * `multiprocessing.cpu_count()` function\n",
    " * `os.cpu_count()` function."
   ]
  },
  {
   "cell_type": "markdown",
   "id": "ebc68e04-86c2-4ddd-bdef-b689b43e7560",
   "metadata": {},
   "source": [
    "Let's try one of these"
   ]
  },
  {
   "cell_type": "code",
   "execution_count": null,
   "id": "68ebbb52-214a-47a8-91c2-7df34c6bcf35",
   "metadata": {},
   "outputs": [],
   "source": [
    "# TODO"
   ]
  },
  {
   "cell_type": "markdown",
   "id": "f5d13a36-680f-439e-a1e6-3b54000982c0",
   "metadata": {},
   "source": [
    "## How to use multiprocessing.Process in a for-loop?"
   ]
  },
  {
   "cell_type": "markdown",
   "id": "7fa74984-1f00-4b78-88fb-bf690cd69c2c",
   "metadata": {},
   "source": [
    "Let's define this simple task function"
   ]
  },
  {
   "cell_type": "code",
   "execution_count": null,
   "id": "228ff59a-1fcf-4932-ae06-7bfe48fc618c",
   "metadata": {},
   "outputs": [],
   "source": [
    "from time import sleep\n",
    "from random import random\n",
    "\n",
    "# execute a task\n",
    "def task(arg):\n",
    "    # block during 1 second\n",
    "    sleep(1)\n",
    "    # report a message\n",
    "    print(f'Task {arg} done', flush=True)"
   ]
  },
  {
   "cell_type": "code",
   "execution_count": null,
   "id": "1f75cf03-153f-48df-b440-698c6e191a4f",
   "metadata": {},
   "outputs": [],
   "source": [
    "%%time \n",
    "task(1)"
   ]
  },
  {
   "cell_type": "markdown",
   "id": "938398cb-edea-420e-bdb8-f67911938e2b",
   "metadata": {},
   "source": [
    "**Sequential execution**"
   ]
  },
  {
   "cell_type": "code",
   "execution_count": null,
   "id": "cf78ef25-1021-49a8-94a1-f51501c40da6",
   "metadata": {},
   "outputs": [],
   "source": [
    "%%time\n",
    "for i in range(20):\n",
    "    task(i)\n",
    "\n",
    "# report that all tasks are completed\n",
    "print('Done', flush=True)"
   ]
  },
  {
   "cell_type": "markdown",
   "id": "a5cc725c-4568-4006-a1b1-f2f305bec5ba",
   "metadata": {},
   "source": [
    "**Parallel execution**"
   ]
  },
  {
   "cell_type": "markdown",
   "id": "a7a8c0f3-2fd1-4126-84a4-4a7bb37a26b7",
   "metadata": {},
   "source": [
    "In the loop above, the `task` method calls are all independent. This is an embarrassingly parallel problem."
   ]
  },
  {
   "cell_type": "markdown",
   "id": "7ad9ae8b-c961-4521-bfbf-ba87a24d12ca",
   "metadata": {},
   "source": [
    "Try to use `multiprocessing.Process` in order to parallelize the loop. To do so, create a `multiprocessing.Process` for each task and use the `start()` method on each Process to run it. Do not forget to wait for all the processes to complete"
   ]
  },
  {
   "cell_type": "code",
   "execution_count": null,
   "id": "5d8081dd-5dd7-4c9e-8d2d-5eb638c4a023",
   "metadata": {},
   "outputs": [],
   "source": [
    "%%time\n",
    "import multiprocessing\n",
    "\n",
    "# TODO\n",
    "\n",
    "# report that all tasks are completed\n",
    "print('Done', flush=True)"
   ]
  },
  {
   "cell_type": "markdown",
   "id": "d8ee8a7d-0ecf-43e2-bbcf-5a134437cb10",
   "metadata": {},
   "source": [
    "The loop should run in just over 1 second, even if you don't have 20 cpus on your machine. This is because the task uses no cpu and each OS has a mechanism for switching between processes when they're not doing anything. As you can see, the CPU user time is very low, which proves that the loop doesn't consume CPU. "
   ]
  },
  {
   "cell_type": "markdown",
   "id": "387ddf50-494b-4179-999a-6150553705f0",
   "metadata": {},
   "source": [
    "Let's start again by defining a task that actually consumes CPU. "
   ]
  },
  {
   "cell_type": "code",
   "execution_count": null,
   "id": "a7a490b8-4c75-4789-9ed6-7ad7c6dc401d",
   "metadata": {},
   "outputs": [],
   "source": [
    "from time import sleep, perf_counter\n",
    "from random import random\n",
    "\n",
    "# execute a task\n",
    "def task_cpu(arg):\n",
    "    x=random()\n",
    "    t=perf_counter()\n",
    "    while (perf_counter()-t) < 10.0: # Do a calculation during 10 seconds\n",
    "        x *=x\n",
    "    # report a message\n",
    "    print(f'Task {arg} done', flush=True)"
   ]
  },
  {
   "cell_type": "markdown",
   "id": "ea59d371-4f3a-4ff6-be48-ed6909b249d0",
   "metadata": {},
   "source": [
    "Let's run one task. Look a the result of time. What happened?"
   ]
  },
  {
   "cell_type": "code",
   "execution_count": null,
   "id": "debecf48-16a6-42e6-a955-38d4546da34f",
   "metadata": {},
   "outputs": [],
   "source": [
    "%%time\n",
    "task_cpu(1)"
   ]
  },
  {
   "cell_type": "markdown",
   "id": "595e6aeb-288a-4d3a-bd7a-7c906bbd4fa0",
   "metadata": {},
   "source": [
    "You can see now that the CPU user time is clode to 10 second. That means that this task actually consume 100% of one CPU during 10 second."
   ]
  },
  {
   "cell_type": "markdown",
   "id": "cee20c59-d0f0-45fe-9042-97af73b5b139",
   "metadata": {},
   "source": [
    "Let's try to parallalize the for-loop with the new task function. Try interpreting the wall-time of the loop execution depending of the number of CPUs on your machine."
   ]
  },
  {
   "cell_type": "code",
   "execution_count": null,
   "id": "84264572-fe2e-4790-aba8-3e1a4fc052d0",
   "metadata": {},
   "outputs": [],
   "source": [
    "%%time \n",
    "import multiprocessing\n",
    "\n",
    "# TODO\n",
    "\n",
    "# report that all tasks are completed\n",
    "print('Done', flush=True)"
   ]
  },
  {
   "cell_type": "markdown",
   "id": "f3de20fb-31aa-4e3b-be1b-eebfe3f91d75",
   "metadata": {},
   "source": [
    "## How to use multiprocessing.Pool in a for-loop?"
   ]
  },
  {
   "cell_type": "markdown",
   "id": "186d7e1c-54b8-4672-a235-8ae483777f32",
   "metadata": {},
   "source": [
    "In this example we created 24 processes, one for each task, even though we may have far fewer CPU cores in our system. Creating a process takes time. In order to be more efficient, we can use a **process pool**.\n",
    "\n",
    "A process pool is a programming pattern for automatically managing a pool of worker processes.\n",
    "\n",
    "The pool is responsible for a fixed number of processes.\n",
    " * It controls when they are created, such as when they are needed.\n",
    " * It also controls what they should do when they are not being used, such as making them wait without consuming computational resources."
   ]
  },
  {
   "cell_type": "markdown",
   "id": "0b616f2b-a478-47a4-bf7a-9a0177e54a35",
   "metadata": {},
   "source": [
    "Try to parallelize the for-loop example with `multiprocessing.Pool`. You can use `map` to execute tasks."
   ]
  },
  {
   "cell_type": "code",
   "execution_count": null,
   "id": "6ddbf5e4-f55a-4db5-a903-420e9df13ce3",
   "metadata": {},
   "outputs": [],
   "source": [
    "%%time\n",
    "\n",
    "# TODO\n",
    "\n",
    "# report that all tasks are completed\n",
    "print('Done', flush=True)"
   ]
  },
  {
   "cell_type": "markdown",
   "id": "b69b570d-9241-4d3b-b6ca-b3369dd1f1f3",
   "metadata": {},
   "source": [
    "Without arguments, the process pool uses all the CPU. Try to configure the number of CPU"
   ]
  },
  {
   "cell_type": "code",
   "execution_count": null,
   "id": "1b18c446-a133-4eff-82aa-a61fa285d8c9",
   "metadata": {},
   "outputs": [],
   "source": [
    "%%time\n",
    "\n",
    "# TODO\n",
    "\n",
    "# report that all tasks are completed\n",
    "print('Done', flush=True)"
   ]
  },
  {
   "cell_type": "markdown",
   "id": "b95dc114-8857-43c0-8c76-7ad8a5cb35ba",
   "metadata": {},
   "source": [
    "### Use the interface concurrent.futures"
   ]
  },
  {
   "cell_type": "markdown",
   "id": "97cd7677-d5c7-43f1-9bda-042519ccbdf9",
   "metadata": {},
   "source": [
    "The concurrent.futures module provides a high-level interface for asynchronously executing callables.\n",
    "The asynchronous execution can be performed with separate processes, using ProcessPoolExecutor."
   ]
  },
  {
   "cell_type": "markdown",
   "id": "dc96cf1b-9e20-431f-ab7e-27152da9b39e",
   "metadata": {},
   "source": [
    "Try to parallelize the for-loop with concurrent.futures"
   ]
  },
  {
   "cell_type": "code",
   "execution_count": null,
   "id": "1aa8b488-6774-4f12-9804-b05b86f0c717",
   "metadata": {},
   "outputs": [],
   "source": [
    "%%time \n",
    "import concurrent.futures\n",
    "\n",
    "# TODO\n",
    "\n",
    "# report that all tasks are completed\n",
    "print('Done', flush=True)"
   ]
  },
  {
   "cell_type": "markdown",
   "id": "27b4f35b-5ed2-40e7-9361-e930b594bbc6",
   "metadata": {},
   "source": [
    "## Synchronization between processes"
   ]
  },
  {
   "cell_type": "markdown",
   "id": "18d77dca-2c09-466d-973d-9dbe35575b41",
   "metadata": {},
   "source": [
    "### Merge for-loop result"
   ]
  },
  {
   "cell_type": "markdown",
   "id": "ef6b3228-851d-4ad1-badb-1aa1afa8aa55",
   "metadata": {},
   "source": [
    "Let's define another task function. Now the function return a value."
   ]
  },
  {
   "cell_type": "code",
   "execution_count": null,
   "id": "ed0b8782-389a-4afe-8984-a8aea58bb315",
   "metadata": {},
   "outputs": [],
   "source": [
    "from time import sleep\n",
    "from random import random\n",
    "\n",
    "# execute a task\n",
    "def task_with_return(arg):\n",
    "    x = random()\n",
    "    # block during 1 second\n",
    "    sleep(1)\n",
    "    # report a message\n",
    "    print(f'Task {arg} x = {x}', flush=True)\n",
    "    #return\n",
    "    return x"
   ]
  },
  {
   "cell_type": "code",
   "execution_count": null,
   "id": "4ec18a4a-b91a-4a68-a405-84484005bfe6",
   "metadata": {},
   "outputs": [],
   "source": [
    "task_with_return(1)"
   ]
  },
  {
   "cell_type": "markdown",
   "id": "002afd16-cc6b-40cc-b8ff-08db8a53b897",
   "metadata": {},
   "source": [
    "**Sequential execution**"
   ]
  },
  {
   "cell_type": "code",
   "execution_count": null,
   "id": "c4805905-fafc-4d36-bf86-24bb5e0deada",
   "metadata": {},
   "outputs": [],
   "source": [
    "%%time \n",
    "result = 0\n",
    "\n",
    "for i in range(24):\n",
    "    result += task_with_return(i)\n",
    "\n",
    "print(f'result = {result}')"
   ]
  },
  {
   "cell_type": "markdown",
   "id": "c897777d-43a3-4d6f-aa73-5a338d4e6f2d",
   "metadata": {},
   "source": [
    "**Parallel execution**"
   ]
  },
  {
   "cell_type": "code",
   "execution_count": null,
   "id": "660ca2e8-2eb9-4252-a53e-0e7c43e1995f",
   "metadata": {},
   "outputs": [],
   "source": [
    "%%time\n",
    "\n",
    "# TODO"
   ]
  },
  {
   "cell_type": "markdown",
   "id": "9ee11d2f-04af-4641-be4c-45e105a54b87",
   "metadata": {},
   "source": [
    "### Lock"
   ]
  },
  {
   "cell_type": "markdown",
   "id": "102f6cd6-f7ce-4649-8960-109f5b3f112f",
   "metadata": {},
   "source": [
    "Let's define a task with a lock. Only one process can have the lock at any time. If a process does not release an acquired lock, it cannot be acquired again."
   ]
  },
  {
   "cell_type": "code",
   "execution_count": null,
   "id": "949b7006-c4df-46f3-9b26-c30f86e382e5",
   "metadata": {},
   "outputs": [],
   "source": [
    "from time import sleep\n",
    "\n",
    "def task_with_lock(arg, lock):\n",
    "    with lock:\n",
    "        print(f'Task {arg} got the lock')\n",
    "        sleep(1)\n",
    "        print(i, 'world')"
   ]
  },
  {
   "cell_type": "markdown",
   "id": "66d68df9-ffa2-45d3-846c-e29f07558444",
   "metadata": {},
   "source": [
    "Try to parallelize a for-loop. Use `multiprocessing.Manager` to create a lock."
   ]
  },
  {
   "cell_type": "code",
   "execution_count": null,
   "id": "7e80bdee-5a84-40dc-8544-4f403a43cd75",
   "metadata": {},
   "outputs": [],
   "source": [
    "%%time\n",
    "import multiprocessing\n",
    "import  concurrent.futures \n",
    "\n",
    "# TODO"
   ]
  },
  {
   "cell_type": "markdown",
   "id": "8e968742-158b-491f-b694-02daf02a3110",
   "metadata": {},
   "source": [
    "## Handle exception"
   ]
  },
  {
   "cell_type": "markdown",
   "id": "36b533dd-e20f-431b-bce5-3d73fae28d23",
   "metadata": {},
   "source": [
    "Try to parallelize the loop with sub You can use `as_completed()` method to gather the result."
   ]
  },
  {
   "cell_type": "code",
   "execution_count": null,
   "id": "23d96865-9b56-47cf-8163-8484881094ed",
   "metadata": {},
   "outputs": [],
   "source": [
    "from time import sleep\n",
    "from random import random\n",
    "\n",
    "# execute a task\n",
    "def task_with_exc(arg):\n",
    "    # block during 1 second\n",
    "    sleep(1)\n",
    "    # Exception\n",
    "    if random() < 0.5:\n",
    "        raise Exception(f\"Task {arg} error\")\n",
    "    # report a message\n",
    "    return f'Task {arg} done'"
   ]
  },
  {
   "cell_type": "code",
   "execution_count": null,
   "id": "dbd8fb43-6fb4-446e-aece-bdaf61d0ffb1",
   "metadata": {},
   "outputs": [],
   "source": [
    "%%time \n",
    "result = 0\n",
    "\n",
    "try:\n",
    "    for i in range(24):\n",
    "        task_with_exc(i)\n",
    "except Exception as e:\n",
    "    print(e)\n",
    "print(f'result = {result}')"
   ]
  },
  {
   "cell_type": "markdown",
   "id": "8b7c3133-fed4-4c00-96b7-7b1e220e1b58",
   "metadata": {},
   "source": [
    "With the `map`, it is not possible to which task has failed."
   ]
  },
  {
   "cell_type": "code",
   "execution_count": null,
   "id": "9d6baa55-6bb2-407c-8989-8d63d3d41c03",
   "metadata": {},
   "outputs": [],
   "source": [
    "%%time\n",
    "import concurrent.futures\n",
    "\n",
    "with concurrent.futures.ProcessPoolExecutor(max_workers=8) as executor:\n",
    "    results = executor.map(task_with_exc,range(24))\n",
    "    try:\n",
    "        for result in results:\n",
    "            print(result)\n",
    "    except:\n",
    "        print(\"Error during execution\")\n"
   ]
  },
  {
   "cell_type": "markdown",
   "id": "2ded34aa-2130-4781-9433-e6d7a0dbc86e",
   "metadata": {},
   "source": [
    "Try to parallelize the loop with sub You can use `as_completed()` method to gather the result."
   ]
  },
  {
   "cell_type": "code",
   "execution_count": null,
   "id": "962a26b4-ae1d-49ba-8fb9-8ddf64a2f5a5",
   "metadata": {},
   "outputs": [],
   "source": [
    "%%time\n",
    "\n",
    "import concurrent.futures\n",
    "\n",
    "# TODO"
   ]
  },
  {
   "cell_type": "markdown",
   "id": "10c4aaa4-879b-4d63-b4fa-e51e2d2f4060",
   "metadata": {},
   "source": [
    "## Use share memory "
   ]
  },
  {
   "cell_type": "markdown",
   "id": "f5cc66b9-da20-4894-83f1-93baea221dbf",
   "metadata": {},
   "source": [
    "`multiprocessing.Array`enable to define an array in shared memory. So each process can have access to same array."
   ]
  },
  {
   "cell_type": "markdown",
   "id": "06536585-04da-444b-a493-b148ab8a6496",
   "metadata": {},
   "source": [
    "Try to fill an shared array with the id of the task "
   ]
  },
  {
   "cell_type": "code",
   "execution_count": null,
   "id": "586c3924-26a1-47ae-8722-095a72dab192",
   "metadata": {},
   "outputs": [],
   "source": [
    "import multiprocessing\n",
    "    \n",
    "def task_array(i):\n",
    "    a[i] = i\n",
    "\n",
    "# TODO"
   ]
  },
  {
   "cell_type": "markdown",
   "id": "0b24c569-e01d-4b5c-8bba-6c37bade2172",
   "metadata": {},
   "source": [
    "### More exercises"
   ]
  },
  {
   "cell_type": "markdown",
   "id": "012e2af7-5a44-4d65-a5cb-a2440e88ad26",
   "metadata": {},
   "source": [
    "#### Fibonacci number"
   ]
  },
  {
   "cell_type": "code",
   "execution_count": null,
   "id": "51bef0f8-19d9-4f9a-9739-4d3bd8949b55",
   "metadata": {},
   "outputs": [],
   "source": [
    "# calculate the nth fibonacci number\n",
    "def fibonacci(n):\n",
    "    # check for the start of the sequence\n",
    "    if n <= 1:\n",
    "        return n\n",
    "    return (fibonacci(n-1) + fibonacci(n-2))"
   ]
  },
  {
   "cell_type": "code",
   "execution_count": null,
   "id": "8868ec74-e607-4254-a388-afc640566f82",
   "metadata": {},
   "outputs": [],
   "source": [
    "for i in range(20):\n",
    "    print(f'f({i}) = {fibonacci(i)}')"
   ]
  },
  {
   "cell_type": "markdown",
   "id": "f2dcdf00-df73-4220-bf6a-0417fbd9a704",
   "metadata": {},
   "source": [
    "1. Caclulate fibonacci numbers iteratively"
   ]
  },
  {
   "cell_type": "code",
   "execution_count": null,
   "id": "5c5acd4d-fddc-444d-a81a-f4853a51b412",
   "metadata": {},
   "outputs": [],
   "source": [
    "# TODO"
   ]
  },
  {
   "cell_type": "code",
   "execution_count": null,
   "id": "cc516bf3-4715-4bdc-a71c-808165d729a8",
   "metadata": {},
   "outputs": [],
   "source": [
    "for i in range(20):\n",
    "    print(f'f({i}) = {fibonacci(i)}')"
   ]
  },
  {
   "cell_type": "markdown",
   "id": "0b07a481-d354-4267-8a9d-575657e40601",
   "metadata": {},
   "source": [
    "2. Parallelize "
   ]
  },
  {
   "cell_type": "code",
   "execution_count": null,
   "id": "db0f9833-957a-4ff3-858a-78baab941b6f",
   "metadata": {},
   "outputs": [],
   "source": [
    "# TODO"
   ]
  },
  {
   "cell_type": "markdown",
   "id": "423f8c25-24df-4694-b040-b13f5779d5d0",
   "metadata": {},
   "source": [
    "### Count numbers"
   ]
  },
  {
   "cell_type": "markdown",
   "id": "e231b5e1-d476-4dac-98bc-c993fdd5fd62",
   "metadata": {},
   "source": [
    "Generate with the cell above 10 files containing numbers "
   ]
  },
  {
   "cell_type": "code",
   "execution_count": null,
   "id": "ad460a5e-2936-478a-b1cf-6f5c40909537",
   "metadata": {},
   "outputs": [],
   "source": [
    "import os\n",
    "import numpy as np\n",
    "for i in range(20):\n",
    "    with open(os.path.join(os.getcwd(), f'numbers_{i}.txt'), 'w') as f:\n",
    "        f.write(os.linesep.join(map(str, [np.random.randint(0, 100) for _ in range(1000) ] )))"
   ]
  },
  {
   "cell_type": "markdown",
   "id": "7b552311-1a3c-4cfb-9d51-ecfcb487f8c8",
   "metadata": {},
   "source": [
    "Try to calculate the occurrency of each number"
   ]
  },
  {
   "cell_type": "code",
   "execution_count": null,
   "id": "64120f07-99de-45c4-9e30-a8d147be9f5e",
   "metadata": {},
   "outputs": [],
   "source": [
    "# TODO"
   ]
  },
  {
   "cell_type": "code",
   "execution_count": null,
   "id": "bd587598-b31f-4685-bb42-e129699f5a8d",
   "metadata": {},
   "outputs": [],
   "source": []
  }
 ],
 "metadata": {
  "kernelspec": {
   "display_name": "Python 3 (ipykernel)",
   "language": "python",
   "name": "python3"
  },
  "language_info": {
   "codemirror_mode": {
    "name": "ipython",
    "version": 3
   },
   "file_extension": ".py",
   "mimetype": "text/x-python",
   "name": "python",
   "nbconvert_exporter": "python",
   "pygments_lexer": "ipython3",
   "version": "3.10.12"
  }
 },
 "nbformat": 4,
 "nbformat_minor": 5
}
