{
 "cells": [
  {
   "cell_type": "markdown",
   "id": "aeedbde1-ebed-4f6b-b192-a471a1f21012",
   "metadata": {},
   "source": [
    "# Numpy"
   ]
  },
  {
   "cell_type": "code",
   "execution_count": 1,
   "id": "e71d4f39-7cae-46b9-a535-09d6a119f181",
   "metadata": {},
   "outputs": [],
   "source": [
    "import os\n",
    "import numpy as np"
   ]
  },
  {
   "cell_type": "markdown",
   "id": "fbf1eed9-4b77-4397-904f-8181e18cb8c1",
   "metadata": {},
   "source": [
    "## Loop vs vectorization "
   ]
  },
  {
   "cell_type": "markdown",
   "id": "7d27b2c3-2b53-4b4c-89bb-0043745ddfd2",
   "metadata": {},
   "source": [
    "Let's define deux arrays"
   ]
  },
  {
   "cell_type": "code",
   "execution_count": 2,
   "id": "cf0625a9-4124-46f3-8efd-16938bd4069f",
   "metadata": {},
   "outputs": [],
   "source": [
    "np.random.seed(123)\n",
    "arr1 = np.random.randint(low=1, high=100, size=(1000,1000))\n",
    "arr2 = np.random.randint(low=1, high=100, size=(1000,1000))"
   ]
  },
  {
   "cell_type": "markdown",
   "id": "e9a2e347-629d-4fdf-b863-0616bc750e6a",
   "metadata": {},
   "source": [
    "We want to compute $$10 \\times \\frac{arr1}{arr2}$$"
   ]
  },
  {
   "cell_type": "markdown",
   "id": "9fed61e4-8a1d-43ca-8037-d7f9d2118769",
   "metadata": {},
   "source": [
    "We can do it with loops, which is not efficient"
   ]
  },
  {
   "cell_type": "code",
   "execution_count": 3,
   "id": "3d79f800-3109-480f-8134-562374468bef",
   "metadata": {},
   "outputs": [
    {
     "name": "stdout",
     "output_type": "stream",
     "text": [
      "CPU times: user 894 ms, sys: 15.5 ms, total: 909 ms\n",
      "Wall time: 885 ms\n"
     ]
    }
   ],
   "source": [
    "%%time\n",
    "res = np.zeros((1000,1000))\n",
    "for i in np.arange(1000):\n",
    "    for j in np.arange(1000):\n",
    "        res[i,j] = 10 * arr1[i,j] / arr2[i,j]"
   ]
  },
  {
   "cell_type": "markdown",
   "id": "e039ff4c-1c4b-425e-92d5-bcd1b8f90059",
   "metadata": {},
   "source": [
    "Or we can do it with vectorization. Vectorization in NumPy is a method of performing operations on entire arrays without explicit loops. The vectorization allows to speed up the code and to simplify the code."
   ]
  },
  {
   "cell_type": "markdown",
   "id": "2ca64449-a338-46a5-a5ac-40c51a1f1174",
   "metadata": {},
   "source": [
    "Try to replace the previous cell with vectorization"
   ]
  },
  {
   "cell_type": "code",
   "execution_count": 12,
   "id": "e33adc0c-2d31-4c7f-9d8d-09fc5e0c8484",
   "metadata": {},
   "outputs": [
    {
     "name": "stdout",
     "output_type": "stream",
     "text": [
      "CPU times: user 11.4 ms, sys: 2.98 ms, total: 14.3 ms\n",
      "Wall time: 12.3 ms\n"
     ]
    }
   ],
   "source": [
    "%%time\n",
    "res = 10 * arr1 / arr2"
   ]
  },
  {
   "cell_type": "markdown",
   "id": "c01767c8-cfe1-4f8a-b534-10a19732c3ff",
   "metadata": {},
   "source": [
    "It's much more efficient"
   ]
  },
  {
   "cell_type": "markdown",
   "id": "6c28491d-b76e-411f-9c1c-e8123621f7bc",
   "metadata": {},
   "source": [
    "Now let's take a look at the case with if-else statements"
   ]
  },
  {
   "cell_type": "code",
   "execution_count": 13,
   "id": "757352ae-56f9-421a-8114-3357320947db",
   "metadata": {},
   "outputs": [
    {
     "name": "stdout",
     "output_type": "stream",
     "text": [
      "CPU times: user 1.47 s, sys: 22.1 ms, total: 1.49 s\n",
      "Wall time: 1.46 s\n"
     ]
    }
   ],
   "source": [
    "%%time\n",
    "# Iterating with loops\n",
    "res = np.zeros((1000,1000))\n",
    "for i in np.arange(1000):\n",
    "    for j in np.arange(1000):\n",
    "        if arr1[i,j] < 10 and arr2[i,j] < 10:\n",
    "            res[i,j] = 200 - arr1[i,j] * arr2[i,j]\n",
    "        elif arr1[i,j] > 50:\n",
    "            res[i,j] = 200 - arr1[i,j] \n",
    "        else:\n",
    "            res[i,j] = arr2[i,j] * arr2[i,j]"
   ]
  },
  {
   "cell_type": "markdown",
   "id": "7ff1c48e-04c6-4f68-8fba-fa36d7f9ab18",
   "metadata": {},
   "source": [
    "Try to do it with vectorization"
   ]
  },
  {
   "cell_type": "code",
   "execution_count": 14,
   "id": "347587f2-dafc-4633-842b-5802ca2a305e",
   "metadata": {},
   "outputs": [
    {
     "name": "stdout",
     "output_type": "stream",
     "text": [
      "CPU times: user 23.6 ms, sys: 11.1 ms, total: 34.7 ms\n",
      "Wall time: 32.2 ms\n"
     ]
    }
   ],
   "source": [
    "%%time\n",
    "res = arr2 * arr2\n",
    "res = np.where(arr1>50, 200 - arr1, res)\n",
    "res = np.where((arr1<10) & (arr2<10), 200 - arr1 * arr2, res)"
   ]
  },
  {
   "cell_type": "markdown",
   "id": "f63827c8-7d13-49a7-a1a8-413beaac86ba",
   "metadata": {},
   "source": [
    "## Use `np.vectorize`"
   ]
  },
  {
   "cell_type": "markdown",
   "id": "9e3d8ef2-adbb-45a2-9b57-10b96afd77e8",
   "metadata": {},
   "source": [
    "Apply custom functions with `np.vectorize()` function"
   ]
  },
  {
   "cell_type": "markdown",
   "id": "0471d614-dc06-47c6-bf87-7b2cee8222df",
   "metadata": {},
   "source": [
    "Let's define a function "
   ]
  },
  {
   "cell_type": "code",
   "execution_count": 15,
   "id": "7f3a43e9-c2f2-482a-86f9-d51be81c0400",
   "metadata": {},
   "outputs": [],
   "source": [
    "def myfunc(a, b):\n",
    "    if a < 10 and b < 10:\n",
    "        return 200 - a * b\n",
    "    elif a > 50:\n",
    "        return 200 - a \n",
    "    else:\n",
    "        return b * b"
   ]
  },
  {
   "cell_type": "raw",
   "id": "9503a47f-d5f0-4de0-8330-8c01712d12a4",
   "metadata": {},
   "source": [
    "Vectorize it"
   ]
  },
  {
   "cell_type": "code",
   "execution_count": 16,
   "id": "24866e63-3b76-4711-bb80-c3700813a752",
   "metadata": {},
   "outputs": [],
   "source": [
    "vfunc = np.vectorize(myfunc)"
   ]
  },
  {
   "cell_type": "markdown",
   "id": "31ef50b7-6761-413c-8925-f9ff910b1868",
   "metadata": {},
   "source": [
    "Apply the function"
   ]
  },
  {
   "cell_type": "code",
   "execution_count": 17,
   "id": "082566c6-3aab-4540-bd22-d063f4bdd9f0",
   "metadata": {},
   "outputs": [
    {
     "name": "stdout",
     "output_type": "stream",
     "text": [
      "CPU times: user 234 ms, sys: 37 ms, total: 271 ms\n",
      "Wall time: 269 ms\n"
     ]
    }
   ],
   "source": [
    "%%time\n",
    "res = vfunc(arr1,arr2)"
   ]
  },
  {
   "cell_type": "code",
   "execution_count": null,
   "id": "60f246ee-617b-4034-bb4a-ce4b41ceed2d",
   "metadata": {},
   "outputs": [],
   "source": []
  },
  {
   "cell_type": "code",
   "execution_count": null,
   "id": "eb6b9d0f-dcc2-4db2-8356-cbbc5f7259ae",
   "metadata": {},
   "outputs": [],
   "source": []
  }
 ],
 "metadata": {
  "kernelspec": {
   "display_name": "Python 3 (ipykernel)",
   "language": "python",
   "name": "python3"
  },
  "language_info": {
   "codemirror_mode": {
    "name": "ipython",
    "version": 3
   },
   "file_extension": ".py",
   "mimetype": "text/x-python",
   "name": "python",
   "nbconvert_exporter": "python",
   "pygments_lexer": "ipython3",
   "version": "3.12.9"
  }
 },
 "nbformat": 4,
 "nbformat_minor": 5
}
