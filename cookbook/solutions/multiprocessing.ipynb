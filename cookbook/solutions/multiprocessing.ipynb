{
 "cells": [
  {
   "cell_type": "markdown",
   "id": "ec31bb16-6a68-48f7-a027-a0cc449539ed",
   "metadata": {},
   "source": [
    "# Multiprocessing"
   ]
  },
  {
   "cell_type": "markdown",
   "id": "c0f0966d-cdee-4c87-a3ce-59029ad32e45",
   "metadata": {},
   "source": [
    "## How to get the number of CPUs in Python?"
   ]
  },
  {
   "cell_type": "markdown",
   "id": "55f3b055-d7c2-4347-89f8-08f8459f1a70",
   "metadata": {},
   "source": [
    "The Python standard library provides two ways:\n",
    "\n",
    " * `multiprocessing.cpu_count()` function\n",
    " * `os.cpu_count()` function."
   ]
  },
  {
   "cell_type": "markdown",
   "id": "ebc68e04-86c2-4ddd-bdef-b689b43e7560",
   "metadata": {},
   "source": [
    "Let's try one of these"
   ]
  },
  {
   "cell_type": "code",
   "execution_count": 1,
   "id": "68ebbb52-214a-47a8-91c2-7df34c6bcf35",
   "metadata": {},
   "outputs": [],
   "source": [
    "# TODO"
   ]
  },
  {
   "cell_type": "code",
   "execution_count": 2,
   "id": "c73c0561-fafd-4b09-b252-5046725fec8b",
   "metadata": {},
   "outputs": [
    {
     "data": {
      "text/plain": [
       "12"
      ]
     },
     "execution_count": 2,
     "metadata": {},
     "output_type": "execute_result"
    }
   ],
   "source": [
    "import multiprocessing\n",
    "multiprocessing.cpu_count()"
   ]
  },
  {
   "cell_type": "code",
   "execution_count": 3,
   "id": "8eea6171-5eae-4b65-891a-09074ed38cd0",
   "metadata": {},
   "outputs": [
    {
     "data": {
      "text/plain": [
       "12"
      ]
     },
     "execution_count": 3,
     "metadata": {},
     "output_type": "execute_result"
    }
   ],
   "source": [
    "import os\n",
    "os.cpu_count()"
   ]
  },
  {
   "cell_type": "markdown",
   "id": "f5d13a36-680f-439e-a1e6-3b54000982c0",
   "metadata": {},
   "source": [
    "## How to use multiprocessing.Process in a for-loop?"
   ]
  },
  {
   "cell_type": "markdown",
   "id": "7fa74984-1f00-4b78-88fb-bf690cd69c2c",
   "metadata": {},
   "source": [
    "Let's define this simple task function"
   ]
  },
  {
   "cell_type": "code",
   "execution_count": 4,
   "id": "228ff59a-1fcf-4932-ae06-7bfe48fc618c",
   "metadata": {},
   "outputs": [],
   "source": [
    "from time import sleep\n",
    "from random import random\n",
    "\n",
    "# execute a task\n",
    "def task(arg):\n",
    "    # block during 1 second\n",
    "    sleep(1)\n",
    "    # report a message\n",
    "    print(f'Task {arg} done', flush=True)"
   ]
  },
  {
   "cell_type": "code",
   "execution_count": 5,
   "id": "1f75cf03-153f-48df-b440-698c6e191a4f",
   "metadata": {},
   "outputs": [
    {
     "name": "stdout",
     "output_type": "stream",
     "text": [
      "Task 1 done\n",
      "CPU times: user 7.34 ms, sys: 4.23 ms, total: 11.6 ms\n",
      "Wall time: 1 s\n"
     ]
    }
   ],
   "source": [
    "%%time \n",
    "task(1)"
   ]
  },
  {
   "cell_type": "markdown",
   "id": "938398cb-edea-420e-bdb8-f67911938e2b",
   "metadata": {},
   "source": [
    "**Sequential execution**"
   ]
  },
  {
   "cell_type": "code",
   "execution_count": 6,
   "id": "cf78ef25-1021-49a8-94a1-f51501c40da6",
   "metadata": {},
   "outputs": [
    {
     "name": "stdout",
     "output_type": "stream",
     "text": [
      "Task 0 done\n",
      "Task 1 done\n",
      "Task 2 done\n",
      "Task 3 done\n",
      "Task 4 done\n",
      "Task 5 done\n",
      "Task 6 done\n",
      "Task 7 done\n",
      "Task 8 done\n",
      "Task 9 done\n",
      "Task 10 done\n",
      "Task 11 done\n",
      "Task 12 done\n",
      "Task 13 done\n",
      "Task 14 done\n",
      "Task 15 done\n",
      "Task 16 done\n",
      "Task 17 done\n",
      "Task 18 done\n",
      "Task 19 done\n",
      "Done\n",
      "CPU times: user 59.1 ms, sys: 5.05 ms, total: 64.1 ms\n",
      "Wall time: 20.1 s\n"
     ]
    }
   ],
   "source": [
    "%%time\n",
    "for i in range(20):\n",
    "    task(i)\n",
    "\n",
    "# report that all tasks are completed\n",
    "print('Done', flush=True)"
   ]
  },
  {
   "cell_type": "markdown",
   "id": "a5cc725c-4568-4006-a1b1-f2f305bec5ba",
   "metadata": {},
   "source": [
    "**Parallel execution**"
   ]
  },
  {
   "cell_type": "markdown",
   "id": "a7a8c0f3-2fd1-4126-84a4-4a7bb37a26b7",
   "metadata": {},
   "source": [
    "In the loop above, the `task` method calls are all independent. This is an embarrassingly parallel problem."
   ]
  },
  {
   "cell_type": "markdown",
   "id": "7ad9ae8b-c961-4521-bfbf-ba87a24d12ca",
   "metadata": {},
   "source": [
    "Try to use `multiprocessing.Process` in order to parallelize the loop. To do so, create a `multiprocessing.Process` for each task and use the `start()` method on each Process to run it. Do not forget to wait for all the processes to complete"
   ]
  },
  {
   "cell_type": "code",
   "execution_count": 7,
   "id": "5d8081dd-5dd7-4c9e-8d2d-5eb638c4a023",
   "metadata": {},
   "outputs": [
    {
     "name": "stdout",
     "output_type": "stream",
     "text": [
      "Done\n",
      "CPU times: user 2.33 ms, sys: 83 µs, total: 2.42 ms\n",
      "Wall time: 2.02 ms\n"
     ]
    }
   ],
   "source": [
    "%%time\n",
    "import multiprocessing\n",
    "\n",
    "# TODO\n",
    "\n",
    "# report that all tasks are completed\n",
    "print('Done', flush=True)"
   ]
  },
  {
   "cell_type": "code",
   "execution_count": 8,
   "id": "893fb560-d5e1-483b-82e5-b8cadfa222d3",
   "metadata": {},
   "outputs": [
    {
     "name": "stdout",
     "output_type": "stream",
     "text": [
      "Task 2 done\n",
      "Task 1 doneTask 0 done\n",
      "\n",
      "Task 3 done\n",
      "Task 4 done\n",
      "Task 5 done\n",
      "Task 6 done\n",
      "Task 7 done\n",
      "Task 8 done\n",
      "Task 9 done\n",
      "Task 10 done\n",
      "Task 11 done\n",
      "Task 12 done\n",
      "Task 13 done\n",
      "Task 14 done\n",
      "Task 15 done\n",
      "Task 16 done\n",
      "Task 17 done\n",
      "Task 18 done\n",
      "Task 19 done\n",
      "Task 20 done\n",
      "Task 21 done\n",
      "Task 22 done\n",
      "Task 23 done\n",
      "Done\n",
      "CPU times: user 77.8 ms, sys: 103 ms, total: 181 ms\n",
      "Wall time: 1.15 s\n"
     ]
    }
   ],
   "source": [
    "%%time\n",
    "import multiprocessing\n",
    "\n",
    "# Create all the processes\n",
    "processes = [ multiprocessing.Process(target=task, args=(i,)) for i in range(24) ]\n",
    "\n",
    "# Start all the processes\n",
    "for process in processes:\n",
    "    process.start()\n",
    "\n",
    "# wait for all processes to complete\n",
    "for process in processes:\n",
    "    process.join()\n",
    "# report that all tasks are completed\n",
    "print('Done', flush=True)"
   ]
  },
  {
   "cell_type": "markdown",
   "id": "d8ee8a7d-0ecf-43e2-bbcf-5a134437cb10",
   "metadata": {},
   "source": [
    "The loop should run in just over 1 second, even if you don't have 20 cpus on your machine. This is because the task uses no cpu and each OS has a mechanism for switching between processes when they're not doing anything. As you can see, the CPU user time is very low, which proves that the loop doesn't consume CPU. "
   ]
  },
  {
   "cell_type": "markdown",
   "id": "387ddf50-494b-4179-999a-6150553705f0",
   "metadata": {},
   "source": [
    "Let's start again by defining a task that actually consumes CPU. "
   ]
  },
  {
   "cell_type": "code",
   "execution_count": 9,
   "id": "a7a490b8-4c75-4789-9ed6-7ad7c6dc401d",
   "metadata": {},
   "outputs": [],
   "source": [
    "from time import sleep, perf_counter\n",
    "from random import random\n",
    "\n",
    "# execute a task\n",
    "def task_cpu(arg):\n",
    "    x=random()\n",
    "    t=perf_counter()\n",
    "    while (perf_counter()-t) < 10.0: # Do a calculation during 10 seconds\n",
    "        x *=x\n",
    "    # report a message\n",
    "    print(f'Task {arg} done', flush=True)"
   ]
  },
  {
   "cell_type": "markdown",
   "id": "ea59d371-4f3a-4ff6-be48-ed6909b249d0",
   "metadata": {},
   "source": [
    "Let's run one task. Look a the result of time. What happened?"
   ]
  },
  {
   "cell_type": "code",
   "execution_count": 10,
   "id": "debecf48-16a6-42e6-a955-38d4546da34f",
   "metadata": {},
   "outputs": [
    {
     "name": "stdout",
     "output_type": "stream",
     "text": [
      "Task 1 done\n",
      "CPU times: user 9.99 s, sys: 5.1 ms, total: 10 s\n",
      "Wall time: 10 s\n"
     ]
    }
   ],
   "source": [
    "%%time\n",
    "task_cpu(1)"
   ]
  },
  {
   "cell_type": "markdown",
   "id": "595e6aeb-288a-4d3a-bd7a-7c906bbd4fa0",
   "metadata": {},
   "source": [
    "You can see now that the CPU user time is clode to 10 second. That means that this task actually consume 100% of one CPU during 10 second."
   ]
  },
  {
   "cell_type": "markdown",
   "id": "cee20c59-d0f0-45fe-9042-97af73b5b139",
   "metadata": {},
   "source": [
    "Let's try to parallalize the for-loop with the new task function. Try interpreting the wall-time of the loop execution depending of the number of CPUs on your machine."
   ]
  },
  {
   "cell_type": "code",
   "execution_count": 11,
   "id": "84264572-fe2e-4790-aba8-3e1a4fc052d0",
   "metadata": {},
   "outputs": [
    {
     "name": "stdout",
     "output_type": "stream",
     "text": [
      "Done\n",
      "CPU times: user 2.13 ms, sys: 16 µs, total: 2.15 ms\n",
      "Wall time: 1.7 ms\n"
     ]
    }
   ],
   "source": [
    "%%time \n",
    "import multiprocessing\n",
    "\n",
    "# TODO\n",
    "\n",
    "# report that all tasks are completed\n",
    "print('Done', flush=True)"
   ]
  },
  {
   "cell_type": "code",
   "execution_count": 12,
   "id": "b5d0e4bd-589e-4035-96de-317721739a17",
   "metadata": {},
   "outputs": [
    {
     "name": "stdout",
     "output_type": "stream",
     "text": [
      "Task 2 doneTask 4 doneTask 0 done\n",
      "Task 5 done\n",
      "\n",
      "Task 7 doneTask 3 done\n",
      "\n",
      "Task 6 doneTask 9 done\n",
      "\n",
      "Task 10 doneTask 8 done\n",
      "\n",
      "Task 11 doneTask 1 done\n",
      "\n",
      "Task 13 doneTask 14 done\n",
      "Task 15 done\n",
      "Task 12 done\n",
      "\n",
      "\n",
      "Task 17 doneTask 16 done\n",
      "\n",
      "Task 18 done\n",
      "Task 19 done\n",
      "Task 20 done\n",
      "Task 21 done\n",
      "Task 22 done\n",
      "Task 23 done\n",
      "Done\n",
      "CPU times: user 26.8 ms, sys: 164 ms, total: 191 ms\n",
      "Wall time: 10.2 s\n"
     ]
    }
   ],
   "source": [
    "%%time\n",
    "import multiprocessing\n",
    "\n",
    "# Create all the processes\n",
    "processes = [ multiprocessing.Process(target=task_cpu, args=(i,)) for i in range(24) ]\n",
    "\n",
    "# Start all the processes\n",
    "for process in processes:\n",
    "    process.start()\n",
    "\n",
    "# wait for all processes to complete\n",
    "for process in processes:\n",
    "    process.join()\n",
    "    \n",
    "# report that all tasks are completed\n",
    "print('Done', flush=True)"
   ]
  },
  {
   "cell_type": "markdown",
   "id": "f3de20fb-31aa-4e3b-be1b-eebfe3f91d75",
   "metadata": {},
   "source": [
    "## How to use multiprocessing.Pool in a for-loop?"
   ]
  },
  {
   "cell_type": "markdown",
   "id": "186d7e1c-54b8-4672-a235-8ae483777f32",
   "metadata": {},
   "source": [
    "In this example we created 24 processes, one for each task, even though we may have far fewer CPU cores in our system. Creating a process takes time. In order to be more efficient, we can use a **process pool**.\n",
    "\n",
    "A process pool is a programming pattern for automatically managing a pool of worker processes.\n",
    "\n",
    "The pool is responsible for a fixed number of processes.\n",
    " * It controls when they are created, such as when they are needed.\n",
    " * It also controls what they should do when they are not being used, such as making them wait without consuming computational resources."
   ]
  },
  {
   "cell_type": "markdown",
   "id": "0b616f2b-a478-47a4-bf7a-9a0177e54a35",
   "metadata": {},
   "source": [
    "Try to parallelize the for-loop example with `multiprocessing.Pool`. You can use `map` to execute tasks."
   ]
  },
  {
   "cell_type": "code",
   "execution_count": 13,
   "id": "6ddbf5e4-f55a-4db5-a903-420e9df13ce3",
   "metadata": {},
   "outputs": [
    {
     "name": "stdout",
     "output_type": "stream",
     "text": [
      "Done\n",
      "CPU times: user 1.87 ms, sys: 14 µs, total: 1.88 ms\n",
      "Wall time: 1.43 ms\n"
     ]
    }
   ],
   "source": [
    "%%time\n",
    "\n",
    "# TODO\n",
    "\n",
    "# report that all tasks are completed\n",
    "print('Done', flush=True)"
   ]
  },
  {
   "cell_type": "code",
   "execution_count": 14,
   "id": "18a67724-ef0e-4298-b1d7-c0def3043a49",
   "metadata": {},
   "outputs": [
    {
     "name": "stdout",
     "output_type": "stream",
     "text": [
      "Task 4 doneTask 0 doneTask 5 doneTask 2 doneTask 8 doneTask 1 doneTask 9 doneTask 3 doneTask 10 done\n",
      "\n",
      "\n",
      "\n",
      "\n",
      "Task 11 done\n",
      "\n",
      "\n",
      "\n",
      "\n",
      "Task 6 done\n",
      "Task 7 done\n",
      "Task 12 doneTask 14 doneTask 15 doneTask 17 doneTask 13 done\n",
      "Task 18 done\n",
      "Task 16 done\n",
      "\n",
      "\n",
      "\n",
      "\n",
      "Task 19 done\n",
      "Task 20 done\n",
      "Task 21 done\n",
      "Task 22 done\n",
      "Task 23 done\n",
      "Done\n",
      "CPU times: user 62.7 ms, sys: 67.9 ms, total: 131 ms\n",
      "Wall time: 20.2 s\n"
     ]
    }
   ],
   "source": [
    "%%time\n",
    "\n",
    "# create a process pool that uses all cpus\n",
    "with multiprocessing.Pool() as pool:\n",
    "\t# call the function for each item in parallel\n",
    "    pool.map(task_cpu, range(24))\n",
    "\n",
    "# report that all tasks are completed\n",
    "print('Done', flush=True)"
   ]
  },
  {
   "cell_type": "markdown",
   "id": "b69b570d-9241-4d3b-b6ca-b3369dd1f1f3",
   "metadata": {},
   "source": [
    "Without arguments, the process pool uses all the CPU. Try to configure the number of CPU"
   ]
  },
  {
   "cell_type": "code",
   "execution_count": 15,
   "id": "1b18c446-a133-4eff-82aa-a61fa285d8c9",
   "metadata": {},
   "outputs": [
    {
     "name": "stdout",
     "output_type": "stream",
     "text": [
      "Done\n",
      "CPU times: user 2.28 ms, sys: 0 ns, total: 2.28 ms\n",
      "Wall time: 1.88 ms\n"
     ]
    }
   ],
   "source": [
    "%%time\n",
    "\n",
    "# TODO\n",
    "\n",
    "# report that all tasks are completed\n",
    "print('Done', flush=True)"
   ]
  },
  {
   "cell_type": "code",
   "execution_count": 16,
   "id": "6c6c4dcf-59a8-428b-9b65-95aadb0c5f5f",
   "metadata": {},
   "outputs": [
    {
     "name": "stdout",
     "output_type": "stream",
     "text": [
      "Task 0 doneTask 6 doneTask 4 doneTask 2 done\n",
      "\n",
      "\n",
      "\n",
      "Task 1 doneTask 7 doneTask 5 doneTask 3 done\n",
      "\n",
      "\n",
      "\n",
      "Task 8 doneTask 10 doneTask 12 doneTask 14 done\n",
      "\n",
      "\n",
      "\n",
      "Task 11 doneTask 15 doneTask 9 doneTask 13 done\n",
      "\n",
      "\n",
      "\n",
      "Task 16 doneTask 20 doneTask 18 doneTask 22 done\n",
      "\n",
      "\n",
      "\n",
      "Task 21 doneTask 19 doneTask 17 doneTask 23 done\n",
      "\n",
      "\n",
      "\n",
      "Done\n",
      "CPU times: user 38.2 ms, sys: 24 ms, total: 62.2 ms\n",
      "Wall time: 1min\n"
     ]
    }
   ],
   "source": [
    "%%time\n",
    "\n",
    "# create a process pool that uses all cpus\n",
    "with multiprocessing.Pool(processes=4) as pool:\n",
    "\t# call the function for each item in parallel\n",
    "    pool.map(task_cpu, range(24))\n",
    "\n",
    "# report that all tasks are completed\n",
    "print('Done', flush=True)"
   ]
  },
  {
   "cell_type": "markdown",
   "id": "b95dc114-8857-43c0-8c76-7ad8a5cb35ba",
   "metadata": {},
   "source": [
    "### Use the interface concurrent.futures"
   ]
  },
  {
   "cell_type": "markdown",
   "id": "97cd7677-d5c7-43f1-9bda-042519ccbdf9",
   "metadata": {},
   "source": [
    "The concurrent.futures module provides a high-level interface for asynchronously executing callables.\n",
    "The asynchronous execution can be performed with separate processes, using ProcessPoolExecutor."
   ]
  },
  {
   "cell_type": "markdown",
   "id": "dc96cf1b-9e20-431f-ab7e-27152da9b39e",
   "metadata": {},
   "source": [
    "Try to parallelize the for-loop with concurrent.futures"
   ]
  },
  {
   "cell_type": "code",
   "execution_count": 17,
   "id": "1aa8b488-6774-4f12-9804-b05b86f0c717",
   "metadata": {},
   "outputs": [
    {
     "name": "stdout",
     "output_type": "stream",
     "text": [
      "Done\n",
      "CPU times: user 0 ns, sys: 2.68 ms, total: 2.68 ms\n",
      "Wall time: 2.15 ms\n"
     ]
    }
   ],
   "source": [
    "%%time \n",
    "import concurrent.futures\n",
    "\n",
    "# TODO\n",
    "\n",
    "# report that all tasks are completed\n",
    "print('Done', flush=True)"
   ]
  },
  {
   "cell_type": "code",
   "execution_count": 18,
   "id": "fb99f9b5-ae32-4c2e-95b9-32dcc11d39be",
   "metadata": {},
   "outputs": [
    {
     "name": "stdout",
     "output_type": "stream",
     "text": [
      "Task 0 doneTask 3 doneTask 1 doneTask 8 doneTask 5 doneTask 2 doneTask 9 doneTask 4 doneTask 6 doneTask 10 doneTask 7 doneTask 11 done\n",
      "\n",
      "\n",
      "\n",
      "\n",
      "\n",
      "\n",
      "\n",
      "\n",
      "\n",
      "\n",
      "\n",
      "Task 12 doneTask 13 doneTask 15 doneTask 17 doneTask 16 doneTask 14 done\n",
      "\n",
      "Task 18 done\n",
      "\n",
      "\n",
      "Task 19 doneTask 21 done\n",
      "Task 20 done\n",
      "\n",
      "\n",
      "\n",
      "Task 23 doneTask 22 done\n",
      "\n",
      "Done\n",
      "CPU times: user 45.7 ms, sys: 96 ms, total: 142 ms\n",
      "Wall time: 20.1 s\n"
     ]
    }
   ],
   "source": [
    "%%time\n",
    "import concurrent.futures\n",
    "\n",
    "with concurrent.futures.ProcessPoolExecutor() as executor:\n",
    "    executor.map(task_cpu,range(24))\n",
    "\n",
    "# report that all tasks are completed\n",
    "print('Done', flush=True)"
   ]
  },
  {
   "cell_type": "markdown",
   "id": "27b4f35b-5ed2-40e7-9361-e930b594bbc6",
   "metadata": {},
   "source": [
    "## Synchronization between processes"
   ]
  },
  {
   "cell_type": "markdown",
   "id": "18d77dca-2c09-466d-973d-9dbe35575b41",
   "metadata": {},
   "source": [
    "### Merge for-loop result"
   ]
  },
  {
   "cell_type": "markdown",
   "id": "ef6b3228-851d-4ad1-badb-1aa1afa8aa55",
   "metadata": {},
   "source": [
    "Let's define another task function. Now the function return a value."
   ]
  },
  {
   "cell_type": "code",
   "execution_count": 19,
   "id": "ed0b8782-389a-4afe-8984-a8aea58bb315",
   "metadata": {},
   "outputs": [],
   "source": [
    "from time import sleep\n",
    "from random import random\n",
    "\n",
    "# execute a task\n",
    "def task_with_return(arg):\n",
    "    x = random()\n",
    "    # block during 1 second\n",
    "    sleep(1)\n",
    "    # report a message\n",
    "    print(f'Task {arg} x = {x}', flush=True)\n",
    "    #return\n",
    "    return x"
   ]
  },
  {
   "cell_type": "code",
   "execution_count": 20,
   "id": "4ec18a4a-b91a-4a68-a405-84484005bfe6",
   "metadata": {},
   "outputs": [
    {
     "name": "stdout",
     "output_type": "stream",
     "text": [
      "Task 1 x = 0.02061786654731157\n"
     ]
    },
    {
     "data": {
      "text/plain": [
       "0.02061786654731157"
      ]
     },
     "execution_count": 20,
     "metadata": {},
     "output_type": "execute_result"
    }
   ],
   "source": [
    "task_with_return(1)"
   ]
  },
  {
   "cell_type": "markdown",
   "id": "002afd16-cc6b-40cc-b8ff-08db8a53b897",
   "metadata": {},
   "source": [
    "**Sequential execution**"
   ]
  },
  {
   "cell_type": "code",
   "execution_count": 21,
   "id": "c4805905-fafc-4d36-bf86-24bb5e0deada",
   "metadata": {},
   "outputs": [
    {
     "name": "stdout",
     "output_type": "stream",
     "text": [
      "Task 0 x = 0.07042293226994845\n",
      "Task 1 x = 0.8027931897983235\n",
      "Task 2 x = 0.15314958476143203\n",
      "Task 3 x = 0.5119739029465238\n",
      "Task 4 x = 0.31509560155347205\n",
      "Task 5 x = 0.5885714998671596\n",
      "Task 6 x = 0.5576350108411092\n",
      "Task 7 x = 0.21875426084405836\n",
      "Task 8 x = 0.4661202239594141\n",
      "Task 9 x = 0.45792899284859745\n",
      "Task 10 x = 0.04686538323461831\n",
      "Task 11 x = 0.3748445473033528\n",
      "Task 12 x = 0.38369702370146674\n",
      "Task 13 x = 0.47664129066995964\n",
      "Task 14 x = 0.08745084661007263\n",
      "Task 15 x = 0.44279981590755924\n",
      "Task 16 x = 0.6507507214834095\n",
      "Task 17 x = 0.4442227494578893\n",
      "Task 18 x = 0.7849689768995336\n",
      "Task 19 x = 0.8233049581369861\n",
      "Task 20 x = 0.7908920506607124\n",
      "Task 21 x = 0.8382518267643617\n",
      "Task 22 x = 0.36210922512100296\n",
      "Task 23 x = 0.3023940538755846\n",
      "result = 10.95163866951655\n",
      "CPU times: user 66.3 ms, sys: 479 µs, total: 66.8 ms\n",
      "Wall time: 24.1 s\n"
     ]
    }
   ],
   "source": [
    "%%time \n",
    "result = 0\n",
    "\n",
    "for i in range(24):\n",
    "    result += task_with_return(i)\n",
    "\n",
    "print(f'result = {result}')"
   ]
  },
  {
   "cell_type": "markdown",
   "id": "c897777d-43a3-4d6f-aa73-5a338d4e6f2d",
   "metadata": {},
   "source": [
    "**Parallel execution**"
   ]
  },
  {
   "cell_type": "code",
   "execution_count": 22,
   "id": "660ca2e8-2eb9-4252-a53e-0e7c43e1995f",
   "metadata": {},
   "outputs": [
    {
     "name": "stdout",
     "output_type": "stream",
     "text": [
      "Task 4 x = 0.6917439765457093Task 0 x = 0.8133627285664992Task 1 x = 0.04143390234437738Task 2 x = 0.13397935538713757Task 7 x = 0.3652963405675773Task 3 x = 0.8232202076433772Task 5 x = 0.4129277235699932Task 6 x = 0.389477612498472\n",
      "\n",
      "\n",
      "\n",
      "\n",
      "\n",
      "\n",
      "\n",
      "Task 9 x = 0.0945893583923143Task 8 x = 0.2527632588471729Task 11 x = 0.3053253361321402Task 10 x = 0.5394807655581709Task 12 x = 0.17775185400103288Task 14 x = 0.8988999556196607Task 13 x = 0.01840864388953023\n",
      "\n",
      "\n",
      "Task 15 x = 0.16277537661500407\n",
      "\n",
      "\n",
      "\n",
      "\n",
      "Task 18 x = 0.1862193791387492Task 17 x = 0.645494765614521Task 22 x = 0.5963191113469579Task 16 x = 0.28306904463876603Task 19 x = 0.7719307617669617Task 21 x = 0.576663315652216Task 20 x = 0.08127373901058121Task 23 x = 0.9702781654421091\n",
      "\n",
      "\n",
      "\n",
      "\n",
      "\n",
      "\n",
      "\n",
      "result = 10.232684678789031\n",
      "CPU times: user 39 ms, sys: 52.4 ms, total: 91.4 ms\n",
      "Wall time: 3.08 s\n"
     ]
    }
   ],
   "source": [
    "%%time\n",
    "import concurrent.futures\n",
    "from concurrent.futures import as_completed\n",
    "\n",
    "result = 0\n",
    "\n",
    "with concurrent.futures.ProcessPoolExecutor(max_workers=8) as executor:\n",
    "    results = executor.map(task_with_return,range(24))\n",
    "    for res in results:\n",
    "        result += res\n",
    "\n",
    "print(f'result = {result}')"
   ]
  },
  {
   "cell_type": "markdown",
   "id": "9ee11d2f-04af-4641-be4c-45e105a54b87",
   "metadata": {},
   "source": [
    "### Lock"
   ]
  },
  {
   "cell_type": "markdown",
   "id": "102f6cd6-f7ce-4649-8960-109f5b3f112f",
   "metadata": {},
   "source": [
    "Let's define a task with a lock. Only one process can have the lock at any time. If a process does not release an acquired lock, it cannot be acquired again."
   ]
  },
  {
   "cell_type": "code",
   "execution_count": 23,
   "id": "949b7006-c4df-46f3-9b26-c30f86e382e5",
   "metadata": {},
   "outputs": [],
   "source": [
    "from time import sleep\n",
    "\n",
    "def task_with_lock(arg, lock):\n",
    "    with lock:\n",
    "        print(f'Task {arg} got the lock')\n",
    "        sleep(1)\n",
    "        print(i, 'world')"
   ]
  },
  {
   "cell_type": "markdown",
   "id": "66d68df9-ffa2-45d3-846c-e29f07558444",
   "metadata": {},
   "source": [
    "Try to parallelize a for-loop. Use `multiprocessing.Manager` to create a lock."
   ]
  },
  {
   "cell_type": "code",
   "execution_count": 24,
   "id": "7e80bdee-5a84-40dc-8544-4f403a43cd75",
   "metadata": {},
   "outputs": [
    {
     "name": "stdout",
     "output_type": "stream",
     "text": [
      "CPU times: user 10 µs, sys: 0 ns, total: 10 µs\n",
      "Wall time: 14.8 µs\n"
     ]
    }
   ],
   "source": [
    "%%time\n",
    "import multiprocessing\n",
    "import  concurrent.futures \n",
    "\n",
    "# TODO"
   ]
  },
  {
   "cell_type": "code",
   "execution_count": 42,
   "id": "f7701e8a-7daa-462b-962b-b280a93796e2",
   "metadata": {},
   "outputs": [
    {
     "name": "stdout",
     "output_type": "stream",
     "text": [
      "Task 0 got the lock\n",
      "19 world\n",
      "Task 2 got the lock\n",
      "19 world\n",
      "Task 1 got the lock\n",
      "19 world\n",
      "Task 5 got the lock\n",
      "19 world\n",
      "Task 3 got the lock\n",
      "19 world\n",
      "Task 4 got the lock\n",
      "19 world\n",
      "Task 7 got the lock\n",
      "19 world\n",
      "Task 6 got the lock\n",
      "19 world\n",
      "Task 8 got the lock\n",
      "19 world\n",
      "Task 9 got the lock\n",
      "19 world\n",
      "Task 10 got the lock\n",
      "19 world\n",
      "Task 11 got the lock\n",
      "19 world\n",
      "Task 12 got the lock\n",
      "19 world\n",
      "Task 13 got the lock\n",
      "19 world\n",
      "Task 14 got the lock\n",
      "19 world\n",
      "Task 15 got the lock\n",
      "19 world\n",
      "Task 16 got the lock\n",
      "19 world\n",
      "Task 17 got the lock\n",
      "19 world\n",
      "Task 18 got the lock\n",
      "19 world\n",
      "Task 19 got the lock\n",
      "19 world\n",
      "Task 20 got the lock\n",
      "19 world\n",
      "Task 21 got the lock\n",
      "19 world\n",
      "Task 22 got the lock\n",
      "19 world\n",
      "Task 23 got the lock\n",
      "19 world\n",
      "CPU times: user 149 ms, sys: 92.5 ms, total: 241 ms\n",
      "Wall time: 24.4 s\n"
     ]
    }
   ],
   "source": [
    "%%time\n",
    "import multiprocessing\n",
    "import  concurrent.futures \n",
    "\n",
    "with concurrent.futures.ProcessPoolExecutor(max_workers=8) as executor:\n",
    "    m = multiprocessing.Manager()\n",
    "    lock = m.Lock()\n",
    "    futures = [executor.submit(task_with_lock, num, lock) for num in range(24)]\n",
    "    for future in futures:\n",
    "        future.result()\n"
   ]
  },
  {
   "cell_type": "markdown",
   "id": "8e968742-158b-491f-b694-02daf02a3110",
   "metadata": {},
   "source": [
    "## Handle exception"
   ]
  },
  {
   "cell_type": "markdown",
   "id": "36b533dd-e20f-431b-bce5-3d73fae28d23",
   "metadata": {},
   "source": [
    "Try to parallelize the loop with sub You can use `as_completed()` method to gather the result."
   ]
  },
  {
   "cell_type": "code",
   "execution_count": 43,
   "id": "23d96865-9b56-47cf-8163-8484881094ed",
   "metadata": {},
   "outputs": [],
   "source": [
    "from time import sleep\n",
    "from random import random\n",
    "\n",
    "# execute a task\n",
    "def task_with_exc(arg):\n",
    "    # block during 1 second\n",
    "    sleep(1)\n",
    "    # Exception\n",
    "    if random() < 0.5:\n",
    "        raise Exception(f\"Task {arg} error\")\n",
    "    # report a message\n",
    "    return f'Task {arg} done'"
   ]
  },
  {
   "cell_type": "code",
   "execution_count": 44,
   "id": "dbd8fb43-6fb4-446e-aece-bdaf61d0ffb1",
   "metadata": {},
   "outputs": [
    {
     "name": "stdout",
     "output_type": "stream",
     "text": [
      "Task 0 error\n",
      "result = 0\n",
      "CPU times: user 0 ns, sys: 1.82 ms, total: 1.82 ms\n",
      "Wall time: 1 s\n"
     ]
    }
   ],
   "source": [
    "%%time \n",
    "result = 0\n",
    "\n",
    "try:\n",
    "    for i in range(24):\n",
    "        task_with_exc(i)\n",
    "except Exception as e:\n",
    "    print(e)\n",
    "print(f'result = {result}')"
   ]
  },
  {
   "cell_type": "markdown",
   "id": "8b7c3133-fed4-4c00-96b7-7b1e220e1b58",
   "metadata": {},
   "source": [
    "With map "
   ]
  },
  {
   "cell_type": "code",
   "execution_count": 45,
   "id": "9d6baa55-6bb2-407c-8989-8d63d3d41c03",
   "metadata": {},
   "outputs": [
    {
     "name": "stdout",
     "output_type": "stream",
     "text": [
      "Task 0 done\n",
      "Task 1 done\n",
      "Task 2 done\n",
      "Error during execution\n",
      "CPU times: user 18.3 ms, sys: 39.8 ms, total: 58.1 ms\n",
      "Wall time: 3.06 s\n"
     ]
    }
   ],
   "source": [
    "%%time\n",
    "import concurrent.futures\n",
    "\n",
    "with concurrent.futures.ProcessPoolExecutor(max_workers=8) as executor:\n",
    "    results = executor.map(task_with_exc,range(24))\n",
    "    try:\n",
    "        for result in results:\n",
    "            print(result)\n",
    "    except:\n",
    "        print(\"Error during execution\")\n"
   ]
  },
  {
   "cell_type": "markdown",
   "id": "2ded34aa-2130-4781-9433-e6d7a0dbc86e",
   "metadata": {},
   "source": [
    "Try to parallelize the loop with sub You can use `as_completed()` method to gather the result."
   ]
  },
  {
   "cell_type": "code",
   "execution_count": 46,
   "id": "962a26b4-ae1d-49ba-8fb9-8ddf64a2f5a5",
   "metadata": {},
   "outputs": [
    {
     "name": "stdout",
     "output_type": "stream",
     "text": [
      "Task 5 done\n",
      "Task 4 done\n",
      "Task 3 done\n",
      "Task 6 done\n",
      "Task 0 done\n",
      "Task 7 error\n",
      "Task 1 error\n",
      "Task 2 error\n",
      "Task 8 done\n",
      "Task 9 done\n",
      "Task 13 done\n",
      "Task 14 done\n",
      "Task 15 error\n",
      "Task 10 error\n",
      "Task 12 error\n",
      "Task 11 error\n",
      "Task 16 done\n",
      "Task 18 error\n",
      "Task 20 done\n",
      "Task 19 error\n",
      "Task 23 error\n",
      "Task 22 done\n",
      "Task 17 error\n",
      "Task 21 error\n",
      "CPU times: user 30.8 ms, sys: 35.9 ms, total: 66.7 ms\n",
      "Wall time: 3.06 s\n"
     ]
    }
   ],
   "source": [
    "%%time\n",
    "\n",
    "import concurrent.futures\n",
    "\n",
    "with concurrent.futures.ProcessPoolExecutor(max_workers=8) as executor:\n",
    "    # execute our tasks\n",
    "    futures = [ executor.submit(task_with_exc, i) for i in range(24)]\n",
    "    for future in concurrent.futures.as_completed(futures):\n",
    "        # get the result from the task\n",
    "        try:\n",
    "            print(future.result())\n",
    "        except Exception:\n",
    "            print(future.exception())"
   ]
  },
  {
   "cell_type": "markdown",
   "id": "10c4aaa4-879b-4d63-b4fa-e51e2d2f4060",
   "metadata": {},
   "source": [
    "## Use share memory "
   ]
  },
  {
   "cell_type": "markdown",
   "id": "f5cc66b9-da20-4894-83f1-93baea221dbf",
   "metadata": {},
   "source": [
    "`multiprocessing.Array`enable to define an array in shared memory. So each process can have access to same array."
   ]
  },
  {
   "cell_type": "markdown",
   "id": "06536585-04da-444b-a493-b148ab8a6496",
   "metadata": {},
   "source": [
    "Try to fill an shared array with the id of the task "
   ]
  },
  {
   "cell_type": "code",
   "execution_count": 47,
   "id": "586c3924-26a1-47ae-8722-095a72dab192",
   "metadata": {},
   "outputs": [],
   "source": [
    "import multiprocessing\n",
    "    \n",
    "def task_array(i):\n",
    "    a[i] = i\n",
    "\n",
    "# TODO"
   ]
  },
  {
   "cell_type": "code",
   "execution_count": 48,
   "id": "3b9d39db-3cad-4e4a-bc7e-bf9146f36a1a",
   "metadata": {},
   "outputs": [
    {
     "name": "stdout",
     "output_type": "stream",
     "text": [
      "[0, 1, 2, 3, 4, 5, 6, 7, 8, 9]\n"
     ]
    }
   ],
   "source": [
    "import multiprocessing\n",
    "\n",
    "def init(arr):\n",
    "    global a\n",
    "    a = arr\n",
    "    \n",
    "def task_array(i):\n",
    "    a[i] = i\n",
    "\n",
    "N = 10\n",
    "arr = multiprocessing.Array('i', [0]*N)\n",
    "pool = multiprocessing.Pool(initializer=init, initargs=(arr,))\n",
    "pool.map(task_array, range(N))\n",
    "print(arr[:])"
   ]
  },
  {
   "cell_type": "markdown",
   "id": "0b24c569-e01d-4b5c-8bba-6c37bade2172",
   "metadata": {},
   "source": [
    "### More exercises"
   ]
  },
  {
   "cell_type": "markdown",
   "id": "012e2af7-5a44-4d65-a5cb-a2440e88ad26",
   "metadata": {},
   "source": [
    "#### Fibonacci number"
   ]
  },
  {
   "cell_type": "code",
   "execution_count": 49,
   "id": "51bef0f8-19d9-4f9a-9739-4d3bd8949b55",
   "metadata": {},
   "outputs": [],
   "source": [
    "# calculate the nth fibonacci number\n",
    "def fibonacci(n):\n",
    "    # check for the start of the sequence\n",
    "    if n <= 1:\n",
    "        return n\n",
    "    return (fibonacci(n-1) + fibonacci(n-2))"
   ]
  },
  {
   "cell_type": "code",
   "execution_count": 50,
   "id": "8868ec74-e607-4254-a388-afc640566f82",
   "metadata": {},
   "outputs": [
    {
     "name": "stdout",
     "output_type": "stream",
     "text": [
      "f(0) = 0\n",
      "f(1) = 1\n",
      "f(2) = 1\n",
      "f(3) = 2\n",
      "f(4) = 3\n",
      "f(5) = 5\n",
      "f(6) = 8\n",
      "f(7) = 13\n",
      "f(8) = 21\n",
      "f(9) = 34\n",
      "f(10) = 55\n",
      "f(11) = 89\n",
      "f(12) = 144\n",
      "f(13) = 233\n",
      "f(14) = 377\n",
      "f(15) = 610\n",
      "f(16) = 987\n",
      "f(17) = 1597\n",
      "f(18) = 2584\n",
      "f(19) = 4181\n"
     ]
    }
   ],
   "source": [
    "for i in range(20):\n",
    "    print(f'f({i}) = {fibonacci(i)}')"
   ]
  },
  {
   "cell_type": "markdown",
   "id": "f2dcdf00-df73-4220-bf6a-0417fbd9a704",
   "metadata": {},
   "source": [
    "1. Caclulate fibonacci numbers iteratively"
   ]
  },
  {
   "cell_type": "code",
   "execution_count": 51,
   "id": "5c5acd4d-fddc-444d-a81a-f4853a51b412",
   "metadata": {},
   "outputs": [],
   "source": [
    "# TODO"
   ]
  },
  {
   "cell_type": "code",
   "execution_count": 52,
   "id": "3395d0a7-53bb-476f-823e-d59c4756c425",
   "metadata": {},
   "outputs": [],
   "source": [
    "# calculate the nth fibonacci number\n",
    "def fibonacci_iteratively(n):\n",
    "    # Init\n",
    "    f0, f1 = 0, 1\n",
    "    # Loop\n",
    "    for _ in range(0, n):\n",
    "        f0, f1 = f1, (f1 + f0)\n",
    "    return f0"
   ]
  },
  {
   "cell_type": "code",
   "execution_count": 53,
   "id": "cc516bf3-4715-4bdc-a71c-808165d729a8",
   "metadata": {},
   "outputs": [
    {
     "name": "stdout",
     "output_type": "stream",
     "text": [
      "f(0) = 0\n",
      "f(1) = 1\n",
      "f(2) = 1\n",
      "f(3) = 2\n",
      "f(4) = 3\n",
      "f(5) = 5\n",
      "f(6) = 8\n",
      "f(7) = 13\n",
      "f(8) = 21\n",
      "f(9) = 34\n",
      "f(10) = 55\n",
      "f(11) = 89\n",
      "f(12) = 144\n",
      "f(13) = 233\n",
      "f(14) = 377\n",
      "f(15) = 610\n",
      "f(16) = 987\n",
      "f(17) = 1597\n",
      "f(18) = 2584\n",
      "f(19) = 4181\n"
     ]
    }
   ],
   "source": [
    "for i in range(20):\n",
    "    print(f'f({i}) = {fibonacci(i)}')"
   ]
  },
  {
   "cell_type": "markdown",
   "id": "0b07a481-d354-4267-8a9d-575657e40601",
   "metadata": {},
   "source": [
    "2. Parallelize "
   ]
  },
  {
   "cell_type": "code",
   "execution_count": 54,
   "id": "db0f9833-957a-4ff3-858a-78baab941b6f",
   "metadata": {},
   "outputs": [],
   "source": [
    "# TODO"
   ]
  },
  {
   "cell_type": "code",
   "execution_count": 55,
   "id": "3dfa72c8-4876-429d-b6ba-1aa23b7e22ff",
   "metadata": {},
   "outputs": [
    {
     "name": "stdout",
     "output_type": "stream",
     "text": [
      "{0: 0, 1: 1, 2: 1, 3: 2, 4: 3, 5: 5, 6: 8, 7: 13, 8: 21, 9: 34, 10: 55, 11: 89, 12: 144, 13: 233, 14: 377, 15: 610, 16: 987, 17: 1597, 18: 2584, 19: 4181, 20: 6765, 21: 10946, 22: 17711, 23: 28657, 24: 46368, 25: 75025, 26: 121393, 27: 196418, 28: 317811, 29: 514229}\n",
      "Done\n",
      "CPU times: user 29.5 ms, sys: 43.7 ms, total: 73.1 ms\n",
      "Wall time: 318 ms\n"
     ]
    }
   ],
   "source": [
    "%%time\n",
    "import concurrent.futures\n",
    "\n",
    "with concurrent.futures.ProcessPoolExecutor() as executor:\n",
    "    # fibonacci numbers to calculate\n",
    "    numbers = range(30)\n",
    "    # mapping of external tasks to internal tasks\n",
    "    size = 2\n",
    "    # calculate concurrently\n",
    "    fibs = executor.map(fibonacci, numbers, chunksize=size)\n",
    "    # store results\n",
    "    results = dict(zip(numbers, fibs))\n",
    "    print(results)\n",
    "print('Done')"
   ]
  },
  {
   "cell_type": "markdown",
   "id": "423f8c25-24df-4694-b040-b13f5779d5d0",
   "metadata": {},
   "source": [
    "### Count numbers"
   ]
  },
  {
   "cell_type": "markdown",
   "id": "e231b5e1-d476-4dac-98bc-c993fdd5fd62",
   "metadata": {},
   "source": [
    "Generate with the cell above 10 files containing numbers "
   ]
  },
  {
   "cell_type": "code",
   "execution_count": 56,
   "id": "ad460a5e-2936-478a-b1cf-6f5c40909537",
   "metadata": {},
   "outputs": [],
   "source": [
    "import os\n",
    "import numpy as np\n",
    "for i in range(20):\n",
    "    with open(os.path.join(os.getcwd(), f'numbers_{i}.txt'), 'w') as f:\n",
    "        f.write(os.linesep.join(map(str, [np.random.randint(0, 100) for _ in range(1000) ] )))"
   ]
  },
  {
   "cell_type": "markdown",
   "id": "7b552311-1a3c-4cfb-9d51-ecfcb487f8c8",
   "metadata": {},
   "source": [
    "Try to calculate the occurrency of each number"
   ]
  },
  {
   "cell_type": "code",
   "execution_count": 57,
   "id": "64120f07-99de-45c4-9e30-a8d147be9f5e",
   "metadata": {},
   "outputs": [],
   "source": [
    "# TODO"
   ]
  },
  {
   "cell_type": "code",
   "execution_count": 58,
   "id": "454e2e23-4c20-412e-a250-e351e5ce78c1",
   "metadata": {},
   "outputs": [
    {
     "name": "stdout",
     "output_type": "stream",
     "text": [
      "{'34': 202, '83': 211, '76': 197, '28': 200, '42': 187, '26': 204, '15': 195, '21': 192, '96': 211, '98': 220, '38': 174, '1': 219, '52': 178, '60': 177, '75': 192, '58': 220, '20': 203, '2': 204, '67': 206, '84': 207, '69': 215, '85': 215, '97': 173, '5': 238, '10': 175, '57': 203, '40': 209, '24': 181, '89': 205, '41': 171, '6': 222, '7': 176, '95': 195, '62': 195, '17': 229, '44': 194, '90': 206, '16': 196, '14': 192, '9': 197, '63': 213, '18': 190, '78': 190, '71': 195, '65': 188, '59': 209, '43': 219, '49': 218, '25': 211, '3': 211, '27': 212, '68': 217, '32': 224, '12': 230, '72': 207, '93': 204, '99': 204, '31': 213, '86': 192, '46': 217, '55': 203, '92': 197, '77': 195, '11': 207, '33': 189, '54': 217, '48': 193, '87': 191, '66': 192, '74': 196, '0': 209, '22': 201, '70': 191, '50': 204, '53': 182, '82': 175, '56': 195, '36': 193, '88': 180, '37': 179, '64': 199, '45': 202, '61': 205, '13': 178, '73': 211, '94': 198, '8': 196, '35': 196, '91': 196, '80': 205, '4': 200, '81': 189, '29': 210, '39': 218, '47': 233, '23': 192, '19': 177, '51': 176, '79': 205, '30': 175}\n",
      "CPU times: user 40.1 ms, sys: 76.1 ms, total: 116 ms\n",
      "Wall time: 130 ms\n"
     ]
    }
   ],
   "source": [
    "%%time\n",
    "import concurrent.futures\n",
    "import glob\n",
    "\n",
    "def count_words(filepath):\n",
    "   counts = {}\n",
    "   with open(filepath, 'r') as f:\n",
    "      words = [word.strip() for word in f.read().split()]\n",
    "\n",
    "      for word in words:\n",
    "         if word not in counts:\n",
    "            counts[word] = 0\n",
    "         counts[word] += 1\n",
    "      return counts\n",
    "\n",
    "\n",
    "def merge_counts(counts1, counts2):\n",
    "   for word, count in counts2.items():\n",
    "      if word not in counts1:\n",
    "         counts1[word] = 0\n",
    "      counts1[word] += counts2[word]\n",
    "   return counts1\n",
    "\n",
    "counts = {}\n",
    "\n",
    "with concurrent.futures.ProcessPoolExecutor() as executor:\n",
    "   per_doc_counts = executor.map(count_words, glob.glob('numbers_*.txt'))\n",
    "   for per_doc_count in per_doc_counts:\n",
    "       merge_counts(counts,per_doc_count)\n",
    "   print(counts)"
   ]
  },
  {
   "cell_type": "code",
   "execution_count": null,
   "id": "e0e596cc-3d80-4372-b2d7-e5965d91e880",
   "metadata": {},
   "outputs": [],
   "source": []
  },
  {
   "cell_type": "code",
   "execution_count": null,
   "id": "bd587598-b31f-4685-bb42-e129699f5a8d",
   "metadata": {},
   "outputs": [],
   "source": []
  }
 ],
 "metadata": {
  "kernelspec": {
   "display_name": "Python 3 (ipykernel)",
   "language": "python",
   "name": "python3"
  },
  "language_info": {
   "codemirror_mode": {
    "name": "ipython",
    "version": 3
   },
   "file_extension": ".py",
   "mimetype": "text/x-python",
   "name": "python",
   "nbconvert_exporter": "python",
   "pygments_lexer": "ipython3",
   "version": "3.10.12"
  }
 },
 "nbformat": 4,
 "nbformat_minor": 5
}
