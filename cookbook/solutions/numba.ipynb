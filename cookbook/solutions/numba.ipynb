{
 "cells": [
  {
   "cell_type": "markdown",
   "id": "aeedbde1-ebed-4f6b-b192-a471a1f21012",
   "metadata": {},
   "source": [
    "# Numba"
   ]
  },
  {
   "cell_type": "code",
   "execution_count": 38,
   "id": "f2e4ce26-5dd1-45e6-b54a-86594dac1982",
   "metadata": {},
   "outputs": [],
   "source": [
    "from numba import jit, njit, prange, vectorize\n",
    "import random"
   ]
  },
  {
   "cell_type": "markdown",
   "id": "fc86f976-4fc0-40b5-8615-63b5be2dc4fe",
   "metadata": {},
   "source": [
    "Let's define a function to compute $\\pi$"
   ]
  },
  {
   "cell_type": "code",
   "execution_count": 39,
   "id": "2e0ec14a-5e2d-4f0f-99e8-4815ce20e9a9",
   "metadata": {},
   "outputs": [],
   "source": [
    "def monte_carlo_pi(nsamples):\n",
    "    acc = 0\n",
    "    for i in range(nsamples):\n",
    "        x = random.random()\n",
    "        y = random.random()\n",
    "        if (x ** 2 + y ** 2) < 1.0:\n",
    "            acc += 1\n",
    "    return 4.0 * acc / nsamples"
   ]
  },
  {
   "cell_type": "code",
   "execution_count": 3,
   "id": "0324c5b6-40bf-4246-9337-146cae4b79c1",
   "metadata": {},
   "outputs": [
    {
     "name": "stdout",
     "output_type": "stream",
     "text": [
      "3.14072\n",
      "CPU times: user 971 ms, sys: 70 μs, total: 971 ms\n",
      "Wall time: 970 ms\n"
     ]
    }
   ],
   "source": [
    "%%time\n",
    "print(monte_carlo_pi(10000000))"
   ]
  },
  {
   "cell_type": "markdown",
   "id": "8dda7b34-da11-48be-a39b-949e0625ab1b",
   "metadata": {},
   "source": [
    "## `@jit` decorator "
   ]
  },
  {
   "cell_type": "markdown",
   "id": "d5005844-de84-4f59-93a0-5a82dfdc1dfb",
   "metadata": {},
   "source": [
    "The `@jit` decorator is used to compile a Python function in order to speed up the function."
   ]
  },
  {
   "cell_type": "code",
   "execution_count": 21,
   "id": "76240363-cc86-4681-a7de-fd738c1c678f",
   "metadata": {},
   "outputs": [],
   "source": [
    "@jit\n",
    "def monte_carlo_pi_jit(nsamples):\n",
    "    acc = 0\n",
    "    for i in range(nsamples):\n",
    "        x = random.random()\n",
    "        y = random.random()\n",
    "        if (x ** 2 + y ** 2) < 1.0:\n",
    "            acc += 1\n",
    "    return 4.0 * acc / nsamples"
   ]
  },
  {
   "cell_type": "markdown",
   "id": "0807d5b6-973c-4235-8101-0ffe70d5d710",
   "metadata": {},
   "source": [
    "First execution (include compilation of the function)"
   ]
  },
  {
   "cell_type": "code",
   "execution_count": 22,
   "id": "36b99d0b-0439-47f8-a3cc-fabd18886387",
   "metadata": {},
   "outputs": [
    {
     "name": "stdout",
     "output_type": "stream",
     "text": [
      "3.1413036\n",
      "CPU times: user 369 ms, sys: 262 μs, total: 369 ms\n",
      "Wall time: 367 ms\n"
     ]
    }
   ],
   "source": [
    "%%time\n",
    "print(monte_carlo_pi_jit(10000000))"
   ]
  },
  {
   "cell_type": "markdown",
   "id": "04f03195-d848-4b20-aa00-7668a6268a2a",
   "metadata": {},
   "source": [
    "Second execution (faster execution time)"
   ]
  },
  {
   "cell_type": "code",
   "execution_count": 23,
   "id": "094eeb34-b30a-4698-8d72-afdc3758cdcd",
   "metadata": {},
   "outputs": [
    {
     "name": "stdout",
     "output_type": "stream",
     "text": [
      "3.141134\n",
      "CPU times: user 177 ms, sys: 2.16 ms, total: 179 ms\n",
      "Wall time: 177 ms\n"
     ]
    }
   ],
   "source": [
    "%%time\n",
    "print(monte_carlo_pi_jit(10000000))"
   ]
  },
  {
   "cell_type": "markdown",
   "id": "f7fabfd8-8cac-402d-b403-8d275f425705",
   "metadata": {},
   "source": [
    "Another execution"
   ]
  },
  {
   "cell_type": "code",
   "execution_count": 24,
   "id": "ce3fc873-920e-47ce-8d67-2cae50c7d8bd",
   "metadata": {},
   "outputs": [
    {
     "name": "stdout",
     "output_type": "stream",
     "text": [
      "3.1413204\n",
      "CPU times: user 193 ms, sys: 493 μs, total: 193 ms\n",
      "Wall time: 190 ms\n"
     ]
    }
   ],
   "source": [
    "%%time\n",
    "print(monte_carlo_pi_jit(10000000))"
   ]
  },
  {
   "cell_type": "markdown",
   "id": "25a3b6e4-8a0f-4994-ace3-2949e6c9cfcb",
   "metadata": {},
   "source": [
    "## `@njit` decorator "
   ]
  },
  {
   "cell_type": "markdown",
   "id": "dd0c754f-628f-4245-b109-75b80368eeea",
   "metadata": {},
   "source": [
    "The `@njit` decorator is a shorthand for `@jit(nopython=True)`. It is used to generate optimized compiled code that does not require the Python interpreter to execute."
   ]
  },
  {
   "cell_type": "code",
   "execution_count": 25,
   "id": "ea10909a-2935-4ef6-bd9a-7d918c3f561c",
   "metadata": {},
   "outputs": [],
   "source": [
    "@njit\n",
    "def monte_carlo_pi_njit(nsamples):\n",
    "    acc = 0\n",
    "    for i in range(nsamples):\n",
    "        x = random.random()\n",
    "        y = random.random()\n",
    "        if (x ** 2 + y ** 2) < 1.0:\n",
    "            acc += 1\n",
    "    return 4.0 * acc / nsamples"
   ]
  },
  {
   "cell_type": "markdown",
   "id": "99839ee8-14bd-4c5a-a08c-01cac3c4599d",
   "metadata": {},
   "source": [
    "First execution (include compilation)"
   ]
  },
  {
   "cell_type": "code",
   "execution_count": 26,
   "id": "22b3db0d-ff1d-42f1-86e6-24112f75b3d4",
   "metadata": {},
   "outputs": [
    {
     "name": "stdout",
     "output_type": "stream",
     "text": [
      "3.1409964\n",
      "CPU times: user 271 ms, sys: 3.13 ms, total: 274 ms\n",
      "Wall time: 273 ms\n"
     ]
    }
   ],
   "source": [
    "%%time\n",
    "print(monte_carlo_pi_njit(10000000))"
   ]
  },
  {
   "cell_type": "markdown",
   "id": "c0d60961-20b4-405b-87ae-e1331ccf75d7",
   "metadata": {},
   "source": [
    "Second execution"
   ]
  },
  {
   "cell_type": "code",
   "execution_count": 27,
   "id": "844ece6d-f3d3-459f-975c-de1780afea35",
   "metadata": {},
   "outputs": [
    {
     "name": "stdout",
     "output_type": "stream",
     "text": [
      "3.142288\n",
      "CPU times: user 194 ms, sys: 1.45 ms, total: 195 ms\n",
      "Wall time: 192 ms\n"
     ]
    }
   ],
   "source": [
    "%%time\n",
    "print(monte_carlo_pi_njit(10000000))"
   ]
  },
  {
   "cell_type": "markdown",
   "id": "7d692f92-4a74-4cac-a24c-57b188da1049",
   "metadata": {},
   "source": [
    "Another execution"
   ]
  },
  {
   "cell_type": "code",
   "execution_count": 28,
   "id": "1c2e3f55-8bb5-4e0c-8da7-5f878d50ee4c",
   "metadata": {},
   "outputs": [
    {
     "name": "stdout",
     "output_type": "stream",
     "text": [
      "3.1422568\n",
      "CPU times: user 171 ms, sys: 0 ns, total: 171 ms\n",
      "Wall time: 168 ms\n"
     ]
    }
   ],
   "source": [
    "%%time\n",
    "print(monte_carlo_pi_njit(10000000))"
   ]
  },
  {
   "cell_type": "markdown",
   "id": "90acce7e-d281-4042-b1db-eae1df19fb85",
   "metadata": {},
   "source": [
    "## Parallelize loops"
   ]
  },
  {
   "cell_type": "markdown",
   "id": "73c1f13b-e65b-46fb-ac7a-c29962d443e2",
   "metadata": {},
   "source": [
    "Numba can parallelize loops to run on multiple CPU cores using the `@njit(parallel=True)` decorator. You must use `prange` instead of range for loops you want to parallelize."
   ]
  },
  {
   "cell_type": "markdown",
   "id": "7bf1ba8a-6e1e-4597-b4ab-e7a1ff65b4e2",
   "metadata": {},
   "source": [
    "Parallelize simple loop"
   ]
  },
  {
   "cell_type": "code",
   "execution_count": 73,
   "id": "e2b12e45-b9d4-4a04-a8d1-f2770f368027",
   "metadata": {},
   "outputs": [],
   "source": [
    "# Without parallelization\n",
    "def sum_of_squares(n):\n",
    "    result = 0\n",
    "    for i in range(n):\n",
    "        result += i ** 2\n",
    "    return result"
   ]
  },
  {
   "cell_type": "code",
   "execution_count": 74,
   "id": "ecc5ba4e-5114-4edf-b872-f5e993dc6d9c",
   "metadata": {},
   "outputs": [
    {
     "name": "stdout",
     "output_type": "stream",
     "text": [
      "333332833333500000\n",
      "CPU times: user 126 ms, sys: 2.63 ms, total: 129 ms\n",
      "Wall time: 128 ms\n"
     ]
    }
   ],
   "source": [
    "%%time\n",
    "print(sum_of_squares(1000000))"
   ]
  },
  {
   "cell_type": "markdown",
   "id": "169c55ee-e5fd-4d1e-b5a1-19d6b7dfe626",
   "metadata": {},
   "source": [
    "Try to parallelize the function with Numba"
   ]
  },
  {
   "cell_type": "code",
   "execution_count": 75,
   "id": "47060ed6-5e2a-4555-a5c3-307ab03f0077",
   "metadata": {},
   "outputs": [],
   "source": [
    "# With parallelization\n",
    "def parallel_sum_of_squares(n):\n",
    "    # TODO@njit(parallel=True)\n",
    "def parallel_sum_of_squares(n):\n",
    "    result = 0\n",
    "    for i in prange(n):\n",
    "        result += i ** 2\n",
    "    return result"
   ]
  },
  {
   "cell_type": "markdown",
   "id": "0f6a6a22-b1c7-4797-8e0c-5dc49e9b0d2c",
   "metadata": {},
   "source": [
    "Execute the next cell twice"
   ]
  },
  {
   "cell_type": "code",
   "execution_count": 77,
   "id": "e0c84d7a-f9b0-4b44-865b-c5a9a490f28b",
   "metadata": {},
   "outputs": [
    {
     "name": "stdout",
     "output_type": "stream",
     "text": [
      "333332833333500000\n",
      "CPU times: user 1.79 ms, sys: 63 μs, total: 1.86 ms\n",
      "Wall time: 1.32 ms\n"
     ]
    }
   ],
   "source": [
    "%%time\n",
    "print(parallel_sum_of_squares(1000000))"
   ]
  },
  {
   "cell_type": "markdown",
   "id": "d8591b86-326e-4c5b-b2be-f2f021bd5f79",
   "metadata": {},
   "source": [
    "## `vectorize` decorator"
   ]
  },
  {
   "cell_type": "markdown",
   "id": "f3deeac0-b820-4d83-89bc-052cb39f1f3d",
   "metadata": {},
   "source": [
    "The @vectorize decorator allows a function to be executed in parallel across multiple elements of an array. "
   ]
  },
  {
   "cell_type": "code",
   "execution_count": 78,
   "id": "56823500-1b9b-476a-a335-6353d7898268",
   "metadata": {},
   "outputs": [],
   "source": [
    "@vectorize(['float64(float64, float64)'], target='parallel')\n",
    "def parallel_vectorize(x, y):\n",
    "    return x * y"
   ]
  },
  {
   "cell_type": "code",
   "execution_count": 82,
   "id": "1bd85a4e-1a05-4ea1-8b1e-2d316d1afb31",
   "metadata": {},
   "outputs": [],
   "source": [
    "arr1 = np.random.rand(10000000)\n",
    "arr2 = np.random.rand(10000000)"
   ]
  },
  {
   "cell_type": "code",
   "execution_count": 83,
   "id": "4365c308-898f-4c5a-8a90-e26479fdf974",
   "metadata": {},
   "outputs": [
    {
     "name": "stdout",
     "output_type": "stream",
     "text": [
      "CPU times: user 221 ms, sys: 50 ms, total: 271 ms\n",
      "Wall time: 38 ms\n"
     ]
    }
   ],
   "source": [
    "%%time\n",
    "result = parallel_vectorize(arr1, arr2)"
   ]
  },
  {
   "cell_type": "markdown",
   "id": "e02293dc-d8ad-48b7-9751-8c7059e329e4",
   "metadata": {},
   "source": [
    "## Using cache"
   ]
  },
  {
   "cell_type": "markdown",
   "id": "9516be4c-86a9-44a2-bd1e-6dca60e0907e",
   "metadata": {},
   "source": [
    "You can tell Numba to cache compiled functions to avoid recompilation. This is done by passing cache=True"
   ]
  },
  {
   "cell_type": "code",
   "execution_count": 88,
   "id": "2583d7b3-e423-4787-b34b-524fa8cd30a2",
   "metadata": {},
   "outputs": [],
   "source": [
    "arr = np.random.rand(1000000)"
   ]
  },
  {
   "cell_type": "code",
   "execution_count": 89,
   "id": "c0b9f167-735c-4522-8fa8-8f6f136a54af",
   "metadata": {},
   "outputs": [],
   "source": [
    "@njit\n",
    "def function(arr):\n",
    "    return np.sum(arr ** 2)"
   ]
  },
  {
   "cell_type": "code",
   "execution_count": 91,
   "id": "c8880193-78ec-4607-b351-36015dd21d76",
   "metadata": {},
   "outputs": [
    {
     "name": "stdout",
     "output_type": "stream",
     "text": [
      "CPU times: user 3.2 ms, sys: 0 ns, total: 3.2 ms\n",
      "Wall time: 3.24 ms\n"
     ]
    },
    {
     "data": {
      "text/plain": [
       "333560.439060744"
      ]
     },
     "execution_count": 91,
     "metadata": {},
     "output_type": "execute_result"
    }
   ],
   "source": [
    "%%time\n",
    "function(arr)"
   ]
  },
  {
   "cell_type": "code",
   "execution_count": 92,
   "id": "b6f30e7c-75c6-4d5d-b505-16d885b47896",
   "metadata": {},
   "outputs": [],
   "source": [
    "@njit(cache=True)\n",
    "def cached_function(arr):\n",
    "    return np.sum(arr ** 2)"
   ]
  },
  {
   "cell_type": "code",
   "execution_count": 94,
   "id": "2b56eb7c-f636-4361-a7b4-ff2cdbbd5e2f",
   "metadata": {},
   "outputs": [
    {
     "name": "stdout",
     "output_type": "stream",
     "text": [
      "CPU times: user 3.29 ms, sys: 25 μs, total: 3.31 ms\n",
      "Wall time: 3.32 ms\n"
     ]
    },
    {
     "data": {
      "text/plain": [
       "333560.439060744"
      ]
     },
     "execution_count": 94,
     "metadata": {},
     "output_type": "execute_result"
    }
   ],
   "source": [
    "%%time\n",
    "cached_function(arr)"
   ]
  },
  {
   "cell_type": "code",
   "execution_count": null,
   "id": "123c65a3-0661-4a5f-ae5a-1109609f540e",
   "metadata": {},
   "outputs": [],
   "source": []
  }
 ],
 "metadata": {
  "kernelspec": {
   "display_name": "Python 3 (ipykernel)",
   "language": "python",
   "name": "python3"
  },
  "language_info": {
   "codemirror_mode": {
    "name": "ipython",
    "version": 3
   },
   "file_extension": ".py",
   "mimetype": "text/x-python",
   "name": "python",
   "nbconvert_exporter": "python",
   "pygments_lexer": "ipython3",
   "version": "3.12.9"
  }
 },
 "nbformat": 4,
 "nbformat_minor": 5
}
