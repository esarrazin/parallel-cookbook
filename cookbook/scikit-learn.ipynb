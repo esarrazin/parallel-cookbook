{
 "cells": [
  {
   "cell_type": "markdown",
   "id": "0ce845f6-1ef2-4ec3-8766-0c4547161a0b",
   "metadata": {},
   "source": [
    "# Scikit-learn"
   ]
  },
  {
   "cell_type": "markdown",
   "id": "5745d3f7-3cef-45d6-a7e8-1535162c9c55",
   "metadata": {},
   "source": [
    "Scikit-learn provides a higher-level parallelism with joblib."
   ]
  },
  {
   "cell_type": "markdown",
   "id": "21d48a43-04df-4567-9dde-ef97779e2c6d",
   "metadata": {},
   "source": [
    "## Use parallelism during training"
   ]
  },
  {
   "cell_type": "markdown",
   "id": "1745feb5-71f4-4e8e-925c-b487fe40ab99",
   "metadata": {},
   "source": [
    "Let's create a dataset."
   ]
  },
  {
   "cell_type": "code",
   "execution_count": null,
   "id": "39b9d1e4-1316-410e-bfe3-534422bb66fd",
   "metadata": {},
   "outputs": [],
   "source": [
    "from sklearn.datasets import make_classification\n",
    "X, y = make_classification(n_samples=100000, n_features=10,\n",
    "                          n_informative=4, n_redundant=0,\n",
    "                          random_state=0, shuffle=False)"
   ]
  },
  {
   "cell_type": "markdown",
   "id": "e20bd49a-d120-4f5c-b4a1-62a5a1285788",
   "metadata": {},
   "source": [
    "Then we instantiate a random forest classifier"
   ]
  },
  {
   "cell_type": "code",
   "execution_count": null,
   "id": "0cfd8612-4e69-4924-b19c-377b6041ffa8",
   "metadata": {},
   "outputs": [],
   "source": [
    "from sklearn.ensemble import RandomForestClassifier\n",
    "clf = RandomForestClassifier(max_depth=2, random_state=0)"
   ]
  },
  {
   "cell_type": "markdown",
   "id": "337d0e7a-96ea-4eaf-a159-db14f4a022f1",
   "metadata": {},
   "source": [
    "Train the classifier"
   ]
  },
  {
   "cell_type": "code",
   "execution_count": null,
   "id": "6f31034c-6db0-4fae-bde9-c3c12e3a9c06",
   "metadata": {},
   "outputs": [],
   "source": [
    "%%time\n",
    "clf.fit(X, y)"
   ]
  },
  {
   "cell_type": "markdown",
   "id": "edb8d11d-077c-4be2-a0bf-2748bcb41c6c",
   "metadata": {},
   "source": [
    "Print the score"
   ]
  },
  {
   "cell_type": "code",
   "execution_count": null,
   "id": "99f3fe0a-166d-4e0a-9a51-a3d5e5589bfc",
   "metadata": {},
   "outputs": [],
   "source": [
    "clf.score(X,y)"
   ]
  },
  {
   "cell_type": "markdown",
   "id": "7e3ea53c-e1c8-4d93-a367-c253143f30b2",
   "metadata": {},
   "source": [
    "Print the signature of RandomForestClassifier. You will notice a parameter named n_jobs. "
   ]
  },
  {
   "cell_type": "code",
   "execution_count": null,
   "id": "a4022198-061d-493e-ba51-9e8832c8ae9a",
   "metadata": {},
   "outputs": [],
   "source": [
    "?RandomForestClassifier"
   ]
  },
  {
   "cell_type": "markdown",
   "id": "348c72d7-5170-40f2-a4a3-bb3573cbbe8d",
   "metadata": {},
   "source": [
    "Let's retrain the classifier but this time with more CPU."
   ]
  },
  {
   "cell_type": "code",
   "execution_count": null,
   "id": "f80a0493-ed4e-4caa-b604-fc5378818543",
   "metadata": {},
   "outputs": [],
   "source": [
    "%%time\n",
    "\n",
    "# TODO"
   ]
  },
  {
   "cell_type": "code",
   "execution_count": null,
   "id": "0e7d73cd-aaee-4bb8-a549-366c9adc100d",
   "metadata": {},
   "outputs": [],
   "source": [
    "clf.score(X,y)"
   ]
  },
  {
   "cell_type": "markdown",
   "id": "22fe1bff-e36d-47a7-96ed-9b9949c60ad6",
   "metadata": {},
   "source": [
    "## Use parallelism during hyperparameter search"
   ]
  },
  {
   "cell_type": "markdown",
   "id": "31b8d814-21af-4dc0-87f3-2bba894ff55f",
   "metadata": {},
   "source": [
    "Hyperparameters are parameters that are not directly learnt within estimators. In scikit-learn they are passed as arguments to the constructor of the estimator classes. There exist several hyperparameter optimizers:\n",
    " * `sklearn.model_selection.GridSearchCV`: Exhaustive search over specified parameter values for an estimator.\n",
    " * `sklearn.model_selection.HalvingGridSearchCV`: Search over specified parameter values with successive halving.\n",
    " * `sklearn.model_selection.ParameterGrid`: Grid of parameters with a discrete number of values for each.\n",
    " * `sklearn.model_selection.ParameterSampler`: Generator on parameters sampled from given distributions.\n",
    " * `sklearn.model_selection.RandomizedSearchCV`: Randomized search on hyper parameters.\n",
    " * `sklearn.model_selection.HalvingRandomSearchCV`: Randomized search on hyper parameters."
   ]
  },
  {
   "cell_type": "markdown",
   "id": "e68bf1a2-4dee-47fa-9341-d0c56ef1ee42",
   "metadata": {},
   "source": [
    "Try to perform a hyperparameter optimization with `GridSearchCV` and the following parameter grid:\n",
    "```python\n",
    "param_grid = { \n",
    "    'n_estimators': [50, 100],\n",
    "    'max_depth' : [2,4,6],\n",
    "}\n",
    "```\n",
    "Look as the parameters of `GridSearchCV` and try ti use more CPU."
   ]
  },
  {
   "cell_type": "code",
   "execution_count": null,
   "id": "815b00f2-7eac-4693-9cfe-a7cf2b6ca18f",
   "metadata": {},
   "outputs": [],
   "source": [
    "from sklearn.model_selection import GridSearchCV"
   ]
  },
  {
   "cell_type": "code",
   "execution_count": null,
   "id": "5d0f41a4-cabc-45cb-8ba8-7c233d4648ce",
   "metadata": {},
   "outputs": [],
   "source": [
    "%%time\n",
    "estimator = RandomForestClassifier(random_state=0)\n",
    "\n",
    "# TODO"
   ]
  },
  {
   "cell_type": "code",
   "execution_count": null,
   "id": "98f733cb-309f-48c1-8e8c-dc2224a470d9",
   "metadata": {},
   "outputs": [],
   "source": [
    "grid_search.best_estimator_"
   ]
  },
  {
   "cell_type": "code",
   "execution_count": null,
   "id": "76e61813-1df7-4ee9-a831-141bf85fb928",
   "metadata": {},
   "outputs": [],
   "source": [
    "grid_search.best_score_"
   ]
  },
  {
   "cell_type": "code",
   "execution_count": null,
   "id": "c29883e3-a1ad-4354-abdf-57a19b1a230f",
   "metadata": {},
   "outputs": [],
   "source": []
  }
 ],
 "metadata": {
  "kernelspec": {
   "display_name": "Python 3 (ipykernel)",
   "language": "python",
   "name": "python3"
  },
  "language_info": {
   "codemirror_mode": {
    "name": "ipython",
    "version": 3
   },
   "file_extension": ".py",
   "mimetype": "text/x-python",
   "name": "python",
   "nbconvert_exporter": "python",
   "pygments_lexer": "ipython3",
   "version": "3.10.12"
  }
 },
 "nbformat": 4,
 "nbformat_minor": 5
}
